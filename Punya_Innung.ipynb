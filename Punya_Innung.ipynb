{
  "nbformat": 4,
  "nbformat_minor": 0,
  "metadata": {
    "colab": {
      "provenance": [],
      "authorship_tag": "ABX9TyMkAVdyCgV4/ZMzF2wlBJjr",
      "include_colab_link": true
    },
    "kernelspec": {
      "name": "python3",
      "display_name": "Python 3"
    },
    "language_info": {
      "name": "python"
    },
    "accelerator": "GPU",
    "gpuClass": "standard"
  },
  "cells": [
    {
      "cell_type": "markdown",
      "metadata": {
        "id": "view-in-github",
        "colab_type": "text"
      },
      "source": [
        "<a href=\"https://colab.research.google.com/github/amilsiddik/percobaan/blob/main/Punya_Innung.ipynb\" target=\"_parent\"><img src=\"https://colab.research.google.com/assets/colab-badge.svg\" alt=\"Open In Colab\"/></a>"
      ]
    },
    {
      "cell_type": "code",
      "execution_count": 1,
      "metadata": {
        "colab": {
          "base_uri": "https://localhost:8080/"
        },
        "id": "RFfsu3rt_rMj",
        "outputId": "8473b548-8e9b-49f8-b0a2-78bc855a446b"
      },
      "outputs": [
        {
          "output_type": "stream",
          "name": "stdout",
          "text": [
            "Looking in indexes: https://pypi.org/simple, https://us-python.pkg.dev/colab-wheels/public/simple/\n",
            "Requirement already satisfied: numpy in /usr/local/lib/python3.7/dist-packages (1.21.6)\n",
            "Looking in indexes: https://pypi.org/simple, https://us-python.pkg.dev/colab-wheels/public/simple/\n",
            "Requirement already satisfied: pandas in /usr/local/lib/python3.7/dist-packages (1.3.5)\n",
            "Requirement already satisfied: numpy>=1.17.3 in /usr/local/lib/python3.7/dist-packages (from pandas) (1.21.6)\n",
            "Requirement already satisfied: pytz>=2017.3 in /usr/local/lib/python3.7/dist-packages (from pandas) (2022.5)\n",
            "Requirement already satisfied: python-dateutil>=2.7.3 in /usr/local/lib/python3.7/dist-packages (from pandas) (2.8.2)\n",
            "Requirement already satisfied: six>=1.5 in /usr/local/lib/python3.7/dist-packages (from python-dateutil>=2.7.3->pandas) (1.15.0)\n",
            "Looking in indexes: https://pypi.org/simple, https://us-python.pkg.dev/colab-wheels/public/simple/\n",
            "Requirement already satisfied: matplotlib in /usr/local/lib/python3.7/dist-packages (3.5.3)\n",
            "Requirement already satisfied: packaging>=20.0 in /usr/local/lib/python3.7/dist-packages (from matplotlib) (21.3)\n",
            "Requirement already satisfied: pillow>=6.2.0 in /usr/local/lib/python3.7/dist-packages (from matplotlib) (7.1.2)\n",
            "Requirement already satisfied: pyparsing>=2.2.1 in /usr/local/lib/python3.7/dist-packages (from matplotlib) (3.0.9)\n",
            "Requirement already satisfied: numpy>=1.17 in /usr/local/lib/python3.7/dist-packages (from matplotlib) (1.21.6)\n",
            "Requirement already satisfied: kiwisolver>=1.0.1 in /usr/local/lib/python3.7/dist-packages (from matplotlib) (1.4.4)\n",
            "Requirement already satisfied: fonttools>=4.22.0 in /usr/local/lib/python3.7/dist-packages (from matplotlib) (4.38.0)\n",
            "Requirement already satisfied: cycler>=0.10 in /usr/local/lib/python3.7/dist-packages (from matplotlib) (0.11.0)\n",
            "Requirement already satisfied: python-dateutil>=2.7 in /usr/local/lib/python3.7/dist-packages (from matplotlib) (2.8.2)\n",
            "Requirement already satisfied: typing-extensions in /usr/local/lib/python3.7/dist-packages (from kiwisolver>=1.0.1->matplotlib) (4.1.1)\n",
            "Requirement already satisfied: six>=1.5 in /usr/local/lib/python3.7/dist-packages (from python-dateutil>=2.7->matplotlib) (1.15.0)\n"
          ]
        }
      ],
      "source": [
        "!pip install numpy\n",
        "!pip install pandas\n",
        "!pip install matplotlib\n"
      ]
    },
    {
      "cell_type": "code",
      "source": [
        "!pip install distfit"
      ],
      "metadata": {
        "colab": {
          "base_uri": "https://localhost:8080/"
        },
        "id": "6nOUV7lqfN5E",
        "outputId": "87defc23-5d26-49eb-f1e6-45af6e7d3f00"
      },
      "execution_count": 2,
      "outputs": [
        {
          "output_type": "stream",
          "name": "stdout",
          "text": [
            "Looking in indexes: https://pypi.org/simple, https://us-python.pkg.dev/colab-wheels/public/simple/\n",
            "Collecting distfit\n",
            "  Downloading distfit-1.4.5-py3-none-any.whl (22 kB)\n",
            "Requirement already satisfied: tqdm in /usr/local/lib/python3.7/dist-packages (from distfit) (4.64.1)\n",
            "Requirement already satisfied: numpy in /usr/local/lib/python3.7/dist-packages (from distfit) (1.21.6)\n",
            "Requirement already satisfied: statsmodels in /usr/local/lib/python3.7/dist-packages (from distfit) (0.12.2)\n",
            "Requirement already satisfied: pandas in /usr/local/lib/python3.7/dist-packages (from distfit) (1.3.5)\n",
            "Requirement already satisfied: matplotlib in /usr/local/lib/python3.7/dist-packages (from distfit) (3.5.3)\n",
            "Requirement already satisfied: pypickle in /usr/local/lib/python3.7/dist-packages (from distfit) (1.1.0)\n",
            "Requirement already satisfied: scipy in /usr/local/lib/python3.7/dist-packages (from distfit) (1.7.3)\n",
            "Requirement already satisfied: packaging>=20.0 in /usr/local/lib/python3.7/dist-packages (from matplotlib->distfit) (21.3)\n",
            "Requirement already satisfied: cycler>=0.10 in /usr/local/lib/python3.7/dist-packages (from matplotlib->distfit) (0.11.0)\n",
            "Requirement already satisfied: kiwisolver>=1.0.1 in /usr/local/lib/python3.7/dist-packages (from matplotlib->distfit) (1.4.4)\n",
            "Requirement already satisfied: fonttools>=4.22.0 in /usr/local/lib/python3.7/dist-packages (from matplotlib->distfit) (4.38.0)\n",
            "Requirement already satisfied: pyparsing>=2.2.1 in /usr/local/lib/python3.7/dist-packages (from matplotlib->distfit) (3.0.9)\n",
            "Requirement already satisfied: python-dateutil>=2.7 in /usr/local/lib/python3.7/dist-packages (from matplotlib->distfit) (2.8.2)\n",
            "Requirement already satisfied: pillow>=6.2.0 in /usr/local/lib/python3.7/dist-packages (from matplotlib->distfit) (7.1.2)\n",
            "Requirement already satisfied: typing-extensions in /usr/local/lib/python3.7/dist-packages (from kiwisolver>=1.0.1->matplotlib->distfit) (4.1.1)\n",
            "Requirement already satisfied: six>=1.5 in /usr/local/lib/python3.7/dist-packages (from python-dateutil>=2.7->matplotlib->distfit) (1.15.0)\n",
            "Requirement already satisfied: pytz>=2017.3 in /usr/local/lib/python3.7/dist-packages (from pandas->distfit) (2022.5)\n",
            "Requirement already satisfied: patsy>=0.5 in /usr/local/lib/python3.7/dist-packages (from statsmodels->distfit) (0.5.3)\n",
            "Installing collected packages: distfit\n",
            "Successfully installed distfit-1.4.5\n"
          ]
        }
      ]
    },
    {
      "cell_type": "code",
      "source": [
        "import pandas as pd\n",
        "import numpy as np\n",
        "from distfit import distfit"
      ],
      "metadata": {
        "id": "MT47bWecAp-Y"
      },
      "execution_count": 3,
      "outputs": []
    },
    {
      "cell_type": "code",
      "source": [
        "df = pd.read_csv('/content/DataAneka - Sheet1 2.csv')"
      ],
      "metadata": {
        "id": "WnDDUUb7oscg"
      },
      "execution_count": 4,
      "outputs": []
    },
    {
      "cell_type": "code",
      "source": [
        "X= df['Klaim']\n",
        "X"
      ],
      "metadata": {
        "colab": {
          "base_uri": "https://localhost:8080/"
        },
        "id": "-H-jrwaChKFC",
        "outputId": "4613e188-4658-42d8-805d-49211313aa09"
      },
      "execution_count": 5,
      "outputs": [
        {
          "output_type": "execute_result",
          "data": {
            "text/plain": [
              "0       8131131\n",
              "1       4927046\n",
              "2       4927046\n",
              "3       4198627\n",
              "4       4591529\n",
              "         ...   \n",
              "287     9413514\n",
              "288     2590978\n",
              "289    13463633\n",
              "290    55200000\n",
              "291    19992000\n",
              "Name: Klaim, Length: 292, dtype: int64"
            ]
          },
          "metadata": {},
          "execution_count": 5
        }
      ]
    },
    {
      "cell_type": "code",
      "source": [
        "dist = distfit()"
      ],
      "metadata": {
        "id": "6ihyw0sdhRnR"
      },
      "execution_count": 6,
      "outputs": []
    },
    {
      "cell_type": "code",
      "source": [
        "dist.fit_transform(X)"
      ],
      "metadata": {
        "colab": {
          "base_uri": "https://localhost:8080/"
        },
        "id": "7uOX45mDhalK",
        "outputId": "f6efe3e8-c9e3-4a43-8e04-4e5ee31df2b5"
      },
      "execution_count": 7,
      "outputs": [
        {
          "output_type": "stream",
          "name": "stdout",
          "text": [
            "[distfit] >fit..\n",
            "[distfit] >transform..\n",
            "[distfit] >[norm      ] [0.00 sec] [RSS: 2.25425e-15] [loc=26130302.880 scale=48017923.490]\n",
            "[distfit] >[expon     ] [0.00 sec] [RSS: 6.48843e-16] [loc=187500.000 scale=25942802.880]\n",
            "[distfit] >[pareto    ] [0.24 sec] [RSS: 1.18865e-15] [loc=-530.470 scale=188030.470]\n",
            "[distfit] >[dweibull  ] [0.09 sec] [RSS: 1.21107e-15] [loc=1515351.000 scale=21682395.751]\n",
            "[distfit] >[t         ] [0.10 sec] [RSS: 1.02891e-15] [loc=-8797.507 scale=3946324.219]\n",
            "[distfit] >[genextreme] [0.45 sec] [RSS: 2.76392e-15] [loc=187503.249 scale=35.254]\n",
            "[distfit] >[gamma     ] [0.16 sec] [RSS: 3.20794e-15] [loc=521576743.003 scale=0.000]\n",
            "[distfit] >[lognorm   ] [0.12 sec] [RSS: 9.42763e-17] [loc=164753.297 scale=7015728.074]\n",
            "[distfit] >[beta      ] [0.12 sec] [RSS: 4.05855e-16] [loc=187500.000 scale=4057178859.721]\n",
            "[distfit] >[uniform   ] [0.00 sec] [RSS: 3.00978e-15] [loc=187500.000 scale=502314260.000]\n",
            "[distfit] >[loggamma  ] [0.06 sec] [RSS: 2.29274e-15] [loc=-20414978336.578 scale=2601916788.450]\n",
            "[distfit] >Compute confidence interval [parametric]\n"
          ]
        },
        {
          "output_type": "execute_result",
          "data": {
            "text/plain": [
              "{'model': {'distr': <scipy.stats._continuous_distns.lognorm_gen at 0x7fbe26527b90>,\n",
              "  'stats': 'RSS',\n",
              "  'params': (1.7361338065380973, 164753.29653705773, 7015728.073709755),\n",
              "  'name': 'lognorm',\n",
              "  'model': <scipy.stats._distn_infrastructure.rv_frozen at 0x7fbe284c7450>,\n",
              "  'score': 9.427632870255033e-17,\n",
              "  'loc': 164753.29653705773,\n",
              "  'scale': 7015728.073709755,\n",
              "  'arg': (1.7361338065380973,),\n",
              "  'CII_min_alpha': 568272.3821391651,\n",
              "  'CII_max_alpha': 122142726.97972801},\n",
              " 'summary':          distr score  LLE                 loc              scale  \\\n",
              " 0      lognorm   0.0  NaN       164753.296537      7015728.07371   \n",
              " 1         beta   0.0  NaN            187500.0  4057178859.720886   \n",
              " 2        expon   0.0  NaN            187500.0    25942802.880137   \n",
              " 3            t   0.0  NaN        -8797.506533      3946324.21949   \n",
              " 4       pareto   0.0  NaN         -530.469899      188030.469887   \n",
              " 5     dweibull   0.0  NaN           1515351.0    21682395.750662   \n",
              " 6         norm   0.0  NaN     26130302.880137    48017923.489784   \n",
              " 7     loggamma   0.0  NaN -20414978336.578415  2601916788.450182   \n",
              " 8   genextreme   0.0  NaN       187503.248648          35.254018   \n",
              " 9      uniform   0.0  NaN            187500.0        502314260.0   \n",
              " 10       gamma   0.0  NaN    521576743.003475                0.0   \n",
              " \n",
              "                                         arg  \n",
              " 0                     (1.7361338065380973,)  \n",
              " 1   (0.4632830296405587, 92.70931123144159)  \n",
              " 2                                        ()  \n",
              " 3                     (0.5905347518519664,)  \n",
              " 4                    (0.27093252195022166,)  \n",
              " 5                     (0.6013858146720337,)  \n",
              " 6                                        ()  \n",
              " 7                     (2582.2520790149056,)  \n",
              " 8                    (-10.851903815223581,)  \n",
              " 9                                        ()  \n",
              " 10                   (0.37578635900174295,)  ,\n",
              " 'histdata': (array([5.38602956e-08, 1.32946299e-08, 7.84042278e-09, 5.79509509e-09,\n",
              "         2.72710357e-09, 2.04532768e-09, 1.70443973e-09, 3.06799152e-09,\n",
              "         1.70443973e-09, 2.04532768e-09, 1.02266384e-09, 1.36355179e-09,\n",
              "         3.40887947e-10, 3.40887947e-10, 0.00000000e+00, 0.00000000e+00,\n",
              "         0.00000000e+00, 6.81775893e-10, 3.40887947e-10, 0.00000000e+00,\n",
              "         3.40887947e-10, 0.00000000e+00, 3.40887947e-10, 0.00000000e+00,\n",
              "         3.40887947e-10, 0.00000000e+00, 0.00000000e+00, 0.00000000e+00,\n",
              "         0.00000000e+00, 0.00000000e+00, 0.00000000e+00, 0.00000000e+00,\n",
              "         0.00000000e+00, 0.00000000e+00, 0.00000000e+00, 0.00000000e+00,\n",
              "         0.00000000e+00, 0.00000000e+00, 0.00000000e+00, 0.00000000e+00,\n",
              "         0.00000000e+00, 0.00000000e+00, 0.00000000e+00, 0.00000000e+00,\n",
              "         0.00000000e+00, 0.00000000e+00, 0.00000000e+00, 0.00000000e+00,\n",
              "         0.00000000e+00, 3.40887947e-10]),\n",
              "  array([5.21064260e+06, 1.52569278e+07, 2.53032130e+07, 3.53494982e+07,\n",
              "         4.53957834e+07, 5.54420686e+07, 6.54883538e+07, 7.55346390e+07,\n",
              "         8.55809242e+07, 9.56272094e+07, 1.05673495e+08, 1.15719780e+08,\n",
              "         1.25766065e+08, 1.35812350e+08, 1.45858635e+08, 1.55904921e+08,\n",
              "         1.65951206e+08, 1.75997491e+08, 1.86043776e+08, 1.96090061e+08,\n",
              "         2.06136347e+08, 2.16182632e+08, 2.26228917e+08, 2.36275202e+08,\n",
              "         2.46321487e+08, 2.56367773e+08, 2.66414058e+08, 2.76460343e+08,\n",
              "         2.86506628e+08, 2.96552913e+08, 3.06599199e+08, 3.16645484e+08,\n",
              "         3.26691769e+08, 3.36738054e+08, 3.46784339e+08, 3.56830625e+08,\n",
              "         3.66876910e+08, 3.76923195e+08, 3.86969480e+08, 3.97015765e+08,\n",
              "         4.07062051e+08, 4.17108336e+08, 4.27154621e+08, 4.37200906e+08,\n",
              "         4.47247191e+08, 4.57293477e+08, 4.67339762e+08, 4.77386047e+08,\n",
              "         4.87432332e+08, 4.97478617e+08])),\n",
              " 'size': 292,\n",
              " 'alpha': 0.05,\n",
              " 'stats': 'RSS',\n",
              " 'bins': 50,\n",
              " 'bound': 'both',\n",
              " 'distr': 'popular',\n",
              " 'method': 'parametric',\n",
              " 'multtest': 'fdr_bh',\n",
              " 'n_perm': 10000,\n",
              " 'smooth': None,\n",
              " 'weighted': True,\n",
              " 'f': 1.5}"
            ]
          },
          "metadata": {},
          "execution_count": 7
        }
      ]
    },
    {
      "cell_type": "code",
      "source": [
        "print(dist.summary)"
      ],
      "metadata": {
        "colab": {
          "base_uri": "https://localhost:8080/"
        },
        "id": "4bfZoLFjhhj_",
        "outputId": "ff487a79-cf55-44a2-d7f1-03fdbd27e289"
      },
      "execution_count": 8,
      "outputs": [
        {
          "output_type": "stream",
          "name": "stdout",
          "text": [
            "         distr score  LLE                 loc              scale  \\\n",
            "0      lognorm   0.0  NaN       164753.296537      7015728.07371   \n",
            "1         beta   0.0  NaN            187500.0  4057178859.720886   \n",
            "2        expon   0.0  NaN            187500.0    25942802.880137   \n",
            "3            t   0.0  NaN        -8797.506533      3946324.21949   \n",
            "4       pareto   0.0  NaN         -530.469899      188030.469887   \n",
            "5     dweibull   0.0  NaN           1515351.0    21682395.750662   \n",
            "6         norm   0.0  NaN     26130302.880137    48017923.489784   \n",
            "7     loggamma   0.0  NaN -20414978336.578415  2601916788.450182   \n",
            "8   genextreme   0.0  NaN       187503.248648          35.254018   \n",
            "9      uniform   0.0  NaN            187500.0        502314260.0   \n",
            "10       gamma   0.0  NaN    521576743.003475                0.0   \n",
            "\n",
            "                                        arg  \n",
            "0                     (1.7361338065380973,)  \n",
            "1   (0.4632830296405587, 92.70931123144159)  \n",
            "2                                        ()  \n",
            "3                     (0.5905347518519664,)  \n",
            "4                    (0.27093252195022166,)  \n",
            "5                     (0.6013858146720337,)  \n",
            "6                                        ()  \n",
            "7                     (2582.2520790149056,)  \n",
            "8                    (-10.851903815223581,)  \n",
            "9                                        ()  \n",
            "10                   (0.37578635900174295,)  \n"
          ]
        }
      ]
    },
    {
      "cell_type": "code",
      "source": [
        "dist.plot()"
      ],
      "metadata": {
        "colab": {
          "base_uri": "https://localhost:8080/",
          "height": 615
        },
        "id": "Q8pa1tk2hsNv",
        "outputId": "51210ae5-c5dd-478c-db59-d21edc336626"
      },
      "execution_count": 9,
      "outputs": [
        {
          "output_type": "stream",
          "name": "stdout",
          "text": [
            "[distfit] >plot..\n"
          ]
        },
        {
          "output_type": "execute_result",
          "data": {
            "text/plain": [
              "(<Figure size 720x576 with 1 Axes>,\n",
              " <AxesSubplot:title={'center':'\\nlognorm\\nRSS(s=1.73613, loc=164753, scale=7.01573e+06)'}, xlabel='Values', ylabel='Frequency'>)"
            ]
          },
          "metadata": {},
          "execution_count": 9
        },
        {
          "output_type": "display_data",
          "data": {
            "text/plain": [
              "<Figure size 720x576 with 1 Axes>"
            ],
            "image/png": "[encoded data removed]"
          },
          "metadata": {
            "needs_background": "light"
          }
        }
      ]
    }
  ]
}