{
  "nbformat": 4,
  "nbformat_minor": 0,
  "metadata": {
    "colab": {
      "name": "Pertemuan13.ipynb",
      "provenance": [],
      "toc_visible": true,
      "authorship_tag": "ABX9TyNjaX/Au6XaAbkpxXEuCqCu",
      "include_colab_link": true
    },
    "kernelspec": {
      "name": "python3",
      "display_name": "Python 3"
    },
    "language_info": {
      "name": "python"
    }
  },
  "cells": [
    {
      "cell_type": "markdown",
      "metadata": {
        "id": "view-in-github",
        "colab_type": "text"
      },
      "source": [
        "<a href=\"https://colab.research.google.com/github/amilsiddik/percobaan/blob/main/Pertemuan13.ipynb\" target=\"_parent\"><img src=\"https://colab.research.google.com/assets/colab-badge.svg\" alt=\"Open In Colab\"/></a>"
      ]
    },
    {
      "cell_type": "markdown",
      "source": [
        "Penggunaan range(nilai_awal, nilai_akhir, pencacah)"
      ],
      "metadata": {
        "id": "eh6szb2-h3tH"
      }
    },
    {
      "cell_type": "code",
      "execution_count": 7,
      "metadata": {
        "colab": {
          "base_uri": "https://localhost:8080/"
        },
        "id": "qzWoRHI3gemV",
        "outputId": "b32b3937-c86c-4e15-f7f9-4bae2a9224d5"
      },
      "outputs": [
        {
          "output_type": "stream",
          "name": "stdout",
          "text": [
            "1 3 "
          ]
        }
      ],
      "source": [
        "for i in range(1,5,2):\n",
        "  print(i, end=' ')"
      ]
    },
    {
      "cell_type": "markdown",
      "source": [
        "Penggunaan range(nilai_awal, nilai_akhir)"
      ],
      "metadata": {
        "id": "V_7gf_yHh2De"
      }
    },
    {
      "cell_type": "code",
      "source": [
        "for i in range(1,5):\n",
        "  print(i, end=' ')"
      ],
      "metadata": {
        "colab": {
          "base_uri": "https://localhost:8080/"
        },
        "id": "m8-_9VHdiJqV",
        "outputId": "9d0efd36-1d8b-459b-e9bb-1b33bebaf3ea"
      },
      "execution_count": 9,
      "outputs": [
        {
          "output_type": "stream",
          "name": "stdout",
          "text": [
            "1 2 3 4 "
          ]
        }
      ]
    },
    {
      "cell_type": "code",
      "source": [
        "awal=int(input('Set Nilai Awal = '))\n",
        "akhir=int(input('Set Nilai Akhir = '))\n",
        "\n",
        "count=0\n",
        "summ=0\n",
        "\n",
        "print('Bilangan antara %d dan %d' %(awal,akhir))\n",
        "\n",
        "for i in range(awal, akhir+1):\n",
        "  print(i, end=' ')\n",
        "  count=count+1\n",
        "  summ=summ+i\n",
        "\n",
        "print('Bilangan di atass ada %d bilangan' %count)\n",
        "print('Jumlah semua bilangan adalah %d' %summ)\n"
      ],
      "metadata": {
        "colab": {
          "base_uri": "https://localhost:8080/"
        },
        "id": "d4ZZXMltinB0",
        "outputId": "245a5225-234f-4198-d581-85c3bfd96162"
      },
      "execution_count": 12,
      "outputs": [
        {
          "output_type": "stream",
          "name": "stdout",
          "text": [
            "Set Nilai Awal = 3\n",
            "Set Nilai Akhir = 7\n",
            "Bilangan antara 3 dan 7\n",
            "3 4 5 6 7 Bilangan di atass ada 5 bilangan\n",
            "Jumlah semua bilangan adalah 25\n"
          ]
        }
      ]
    },
    {
      "cell_type": "code",
      "source": [
        "awal=int(input('Set Nilai Awal = '))\n",
        "akhir=int(input('Set Nilai Akhir = '))\n",
        "\n",
        "count=0\n",
        "kali=1\n",
        "\n",
        "print('Bilangan antara %d dan %d' %(awal,akhir))\n",
        "\n",
        "for i in range(awal, akhir+1, 3):\n",
        "  print(i, end=' ')\n",
        "  count=count+1\n",
        "  kali=kali*i\n",
        "\n",
        "print('Bilangan di atass ada %d bilangan' %count)\n",
        "print('Hasil kali semua bilangan adalah %d' %kali)"
      ],
      "metadata": {
        "colab": {
          "base_uri": "https://localhost:8080/"
        },
        "id": "Hzt73OtMmHEb",
        "outputId": "679c8ddc-10db-482d-eb75-14e4018232f0"
      },
      "execution_count": 14,
      "outputs": [
        {
          "output_type": "stream",
          "name": "stdout",
          "text": [
            "Set Nilai Awal = 1\n",
            "Set Nilai Akhir = 10\n",
            "Bilangan antara 1 dan 10\n",
            "1 4 7 10 Bilangan di atass ada 4 bilangan\n",
            "Hasil kali semua bilangan adalah 280\n"
          ]
        }
      ]
    },
    {
      "cell_type": "code",
      "source": [
        "for i in range(5+1):\n",
        "  print(i, end=' ')"
      ],
      "metadata": {
        "colab": {
          "base_uri": "https://localhost:8080/"
        },
        "id": "mhVy0un9o1SS",
        "outputId": "55ede353-3020-4e8e-be16-fd22224ac8e7"
      },
      "execution_count": 16,
      "outputs": [
        {
          "output_type": "stream",
          "name": "stdout",
          "text": [
            "0 1 2 3 4 5 "
          ]
        }
      ]
    },
    {
      "cell_type": "code",
      "source": [
        "for x in range(1,3):\n",
        "  for y in range (1,3):\n",
        "    print(x,y,x*y)"
      ],
      "metadata": {
        "colab": {
          "base_uri": "https://localhost:8080/"
        },
        "id": "ffs-5gpfrN3o",
        "outputId": "ea2fc6b3-55c6-4e44-d91f-9bdef4b7f17d"
      },
      "execution_count": 19,
      "outputs": [
        {
          "output_type": "stream",
          "name": "stdout",
          "text": [
            "1 1 1\n",
            "1 2 2\n",
            "2 1 2\n",
            "2 2 4\n"
          ]
        }
      ]
    },
    {
      "cell_type": "code",
      "source": [
        "for i in [12,16, 17,24,29]:\n",
        "  if i % 2 == 1:\n",
        "    break\n",
        "  print(i)\n",
        "print('selesai')"
      ],
      "metadata": {
        "colab": {
          "base_uri": "https://localhost:8080/"
        },
        "id": "PP1LMwfstNDo",
        "outputId": "e8cf8708-e740-4ad0-8610-f316e6bc3b32"
      },
      "execution_count": 22,
      "outputs": [
        {
          "output_type": "stream",
          "name": "stdout",
          "text": [
            "12\n",
            "16\n",
            "selesai\n"
          ]
        }
      ]
    },
    {
      "cell_type": "markdown",
      "source": [
        "**Penjumlahan matriks**"
      ],
      "metadata": {
        "id": "xZINwEnryebW"
      }
    },
    {
      "cell_type": "code",
      "source": [
        "for jashjahsdjajk"
      ],
      "metadata": {
        "id": "6jKwJFv2yjgC"
      },
      "execution_count": null,
      "outputs": []
    },
    {
      "cell_type": "markdown",
      "source": [
        "**Nomor 1**"
      ],
      "metadata": {
        "id": "kZe4uhZyylQi"
      }
    },
    {
      "cell_type": "code",
      "source": [
        ""
      ],
      "metadata": {
        "id": "26TrLBzwyoCL"
      },
      "execution_count": null,
      "outputs": []
    }
  ]
}