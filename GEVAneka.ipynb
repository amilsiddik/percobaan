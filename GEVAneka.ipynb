{
  "nbformat": 4,
  "nbformat_minor": 0,
  "metadata": {
    "colab": {
      "provenance": [],
      "mount_file_id": "https://github.com/amilsiddik/percobaan/blob/main/GEV.ipynb",
      "authorship_tag": "ABX9TyOjc3uRsYGQ/PAPZJlxfg6i",
      "include_colab_link": true
    },
    "kernelspec": {
      "name": "python3",
      "display_name": "Python 3"
    },
    "language_info": {
      "name": "python"
    },
    "accelerator": "GPU",
    "gpuClass": "standard"
  },
  "cells": [
    {
      "cell_type": "markdown",
      "metadata": {
        "id": "view-in-github",
        "colab_type": "text"
      },
      "source": [
        "<a href=\"https://colab.research.google.com/github/amilsiddik/percobaan/blob/main/GEVAneka.ipynb\" target=\"_parent\"><img src=\"https://colab.research.google.com/assets/colab-badge.svg\" alt=\"Open In Colab\"/></a>"
      ]
    },
    {
      "cell_type": "code",
      "execution_count": 1,
      "metadata": {
        "id": "jZ8hCA8fpMkc"
      },
      "outputs": [],
      "source": [
        "import pandas as pd"
      ]
    },
    {
      "cell_type": "code",
      "source": [
        "from google.colab import drive\n",
        "drive.mount('/content/drive')"
      ],
      "metadata": {
        "id": "CMQL_GQ2VdUp",
        "outputId": "961cbffb-25e8-465d-c3d3-a9643942878f",
        "colab": {
          "base_uri": "https://localhost:8080/"
        }
      },
      "execution_count": 2,
      "outputs": [
        {
          "output_type": "stream",
          "name": "stdout",
          "text": [
            "Drive already mounted at /content/drive; to attempt to forcibly remount, call drive.mount(\"/content/drive\", force_remount=True).\n"
          ]
        }
      ]
    },
    {
      "cell_type": "code",
      "source": [
        "dataAinun = pd.read_excel('/content/drive/MyDrive/Ainun Folder/Aneka sort.xlsx')\n",
        "dataAinun"
      ],
      "metadata": {
        "colab": {
          "base_uri": "https://localhost:8080/",
          "height": 424
        },
        "id": "1I2cWpEDrM8f",
        "outputId": "207bc99d-8d8d-43c1-84ff-346f34cc1c8f"
      },
      "execution_count": 3,
      "outputs": [
        {
          "output_type": "execute_result",
          "data": {
            "text/plain": [
              "             Aneka  Cargo  Engi  Fire  Hull         KBM\n",
              "0     5.267075e+08    NaN   NaN   NaN   NaN  35670000.0\n",
              "1     5.025018e+08    NaN   NaN   NaN   NaN   3239100.0\n",
              "2     5.000000e+08    NaN   NaN   NaN   NaN  12861109.0\n",
              "3     3.752046e+08    NaN   NaN   NaN   NaN   2231277.0\n",
              "4     3.072982e+08    NaN   NaN   NaN   NaN  11423437.0\n",
              "...            ...    ...   ...   ...   ...         ...\n",
              "1201           NaN    NaN   NaN   NaN   NaN   4189350.0\n",
              "1202           NaN    NaN   NaN   NaN   NaN   4193205.0\n",
              "1203           NaN    NaN   NaN   NaN   NaN   9690100.0\n",
              "1204           NaN    NaN   NaN   NaN   NaN   4137000.0\n",
              "1205           NaN    NaN   NaN   NaN   NaN   4966925.0\n",
              "\n",
              "[1206 rows x 6 columns]"
            ],
            "text/html": [
              "\n",
              "  <div id=\"df-62647a97-9313-4210-97b4-1a559daed749\">\n",
              "    <div class=\"colab-df-container\">\n",
              "      <div>\n",
              "<style scoped>\n",
              "    .dataframe tbody tr th:only-of-type {\n",
              "        vertical-align: middle;\n",
              "    }\n",
              "\n",
              "    .dataframe tbody tr th {\n",
              "        vertical-align: top;\n",
              "    }\n",
              "\n",
              "    .dataframe thead th {\n",
              "        text-align: right;\n",
              "    }\n",
              "</style>\n",
              "<table border=\"1\" class=\"dataframe\">\n",
              "  <thead>\n",
              "    <tr style=\"text-align: right;\">\n",
              "      <th></th>\n",
              "      <th>Aneka</th>\n",
              "      <th>Cargo</th>\n",
              "      <th>Engi</th>\n",
              "      <th>Fire</th>\n",
              "      <th>Hull</th>\n",
              "      <th>KBM</th>\n",
              "    </tr>\n",
              "  </thead>\n",
              "  <tbody>\n",
              "    <tr>\n",
              "      <th>0</th>\n",
              "      <td>5.267075e+08</td>\n",
              "      <td>NaN</td>\n",
              "      <td>NaN</td>\n",
              "      <td>NaN</td>\n",
              "      <td>NaN</td>\n",
              "      <td>35670000.0</td>\n",
              "    </tr>\n",
              "    <tr>\n",
              "      <th>1</th>\n",
              "      <td>5.025018e+08</td>\n",
              "      <td>NaN</td>\n",
              "      <td>NaN</td>\n",
              "      <td>NaN</td>\n",
              "      <td>NaN</td>\n",
              "      <td>3239100.0</td>\n",
              "    </tr>\n",
              "    <tr>\n",
              "      <th>2</th>\n",
              "      <td>5.000000e+08</td>\n",
              "      <td>NaN</td>\n",
              "      <td>NaN</td>\n",
              "      <td>NaN</td>\n",
              "      <td>NaN</td>\n",
              "      <td>12861109.0</td>\n",
              "    </tr>\n",
              "    <tr>\n",
              "      <th>3</th>\n",
              "      <td>3.752046e+08</td>\n",
              "      <td>NaN</td>\n",
              "      <td>NaN</td>\n",
              "      <td>NaN</td>\n",
              "      <td>NaN</td>\n",
              "      <td>2231277.0</td>\n",
              "    </tr>\n",
              "    <tr>\n",
              "      <th>4</th>\n",
              "      <td>3.072982e+08</td>\n",
              "      <td>NaN</td>\n",
              "      <td>NaN</td>\n",
              "      <td>NaN</td>\n",
              "      <td>NaN</td>\n",
              "      <td>11423437.0</td>\n",
              "    </tr>\n",
              "    <tr>\n",
              "      <th>...</th>\n",
              "      <td>...</td>\n",
              "      <td>...</td>\n",
              "      <td>...</td>\n",
              "      <td>...</td>\n",
              "      <td>...</td>\n",
              "      <td>...</td>\n",
              "    </tr>\n",
              "    <tr>\n",
              "      <th>1201</th>\n",
              "      <td>NaN</td>\n",
              "      <td>NaN</td>\n",
              "      <td>NaN</td>\n",
              "      <td>NaN</td>\n",
              "      <td>NaN</td>\n",
              "      <td>4189350.0</td>\n",
              "    </tr>\n",
              "    <tr>\n",
              "      <th>1202</th>\n",
              "      <td>NaN</td>\n",
              "      <td>NaN</td>\n",
              "      <td>NaN</td>\n",
              "      <td>NaN</td>\n",
              "      <td>NaN</td>\n",
              "      <td>4193205.0</td>\n",
              "    </tr>\n",
              "    <tr>\n",
              "      <th>1203</th>\n",
              "      <td>NaN</td>\n",
              "      <td>NaN</td>\n",
              "      <td>NaN</td>\n",
              "      <td>NaN</td>\n",
              "      <td>NaN</td>\n",
              "      <td>9690100.0</td>\n",
              "    </tr>\n",
              "    <tr>\n",
              "      <th>1204</th>\n",
              "      <td>NaN</td>\n",
              "      <td>NaN</td>\n",
              "      <td>NaN</td>\n",
              "      <td>NaN</td>\n",
              "      <td>NaN</td>\n",
              "      <td>4137000.0</td>\n",
              "    </tr>\n",
              "    <tr>\n",
              "      <th>1205</th>\n",
              "      <td>NaN</td>\n",
              "      <td>NaN</td>\n",
              "      <td>NaN</td>\n",
              "      <td>NaN</td>\n",
              "      <td>NaN</td>\n",
              "      <td>4966925.0</td>\n",
              "    </tr>\n",
              "  </tbody>\n",
              "</table>\n",
              "<p>1206 rows × 6 columns</p>\n",
              "</div>\n",
              "      <button class=\"colab-df-convert\" onclick=\"convertToInteractive('df-62647a97-9313-4210-97b4-1a559daed749')\"\n",
              "              title=\"Convert this dataframe to an interactive table.\"\n",
              "              style=\"display:none;\">\n",
              "        \n",
              "  <svg xmlns=\"http://www.w3.org/2000/svg\" height=\"24px\"viewBox=\"0 0 24 24\"\n",
              "       width=\"24px\">\n",
              "    <path d=\"M0 0h24v24H0V0z\" fill=\"none\"/>\n",
              "    <path d=\"M18.56 5.44l.94 2.06.94-2.06 2.06-.94-2.06-.94-.94-2.06-.94 2.06-2.06.94zm-11 1L8.5 8.5l.94-2.06 2.06-.94-2.06-.94L8.5 2.5l-.94 2.06-2.06.94zm10 10l.94 2.06.94-2.06 2.06-.94-2.06-.94-.94-2.06-.94 2.06-2.06.94z\"/><path d=\"M17.41 7.96l-1.37-1.37c-.4-.4-.92-.59-1.43-.59-.52 0-1.04.2-1.43.59L10.3 9.45l-7.72 7.72c-.78.78-.78 2.05 0 2.83L4 21.41c.39.39.9.59 1.41.59.51 0 1.02-.2 1.41-.59l7.78-7.78 2.81-2.81c.8-.78.8-2.07 0-2.86zM5.41 20L4 18.59l7.72-7.72 1.47 1.35L5.41 20z\"/>\n",
              "  </svg>\n",
              "      </button>\n",
              "      \n",
              "  <style>\n",
              "    .colab-df-container {\n",
              "      display:flex;\n",
              "      flex-wrap:wrap;\n",
              "      gap: 12px;\n",
              "    }\n",
              "\n",
              "    .colab-df-convert {\n",
              "      background-color: #E8F0FE;\n",
              "      border: none;\n",
              "      border-radius: 50%;\n",
              "      cursor: pointer;\n",
              "      display: none;\n",
              "      fill: #1967D2;\n",
              "      height: 32px;\n",
              "      padding: 0 0 0 0;\n",
              "      width: 32px;\n",
              "    }\n",
              "\n",
              "    .colab-df-convert:hover {\n",
              "      background-color: #E2EBFA;\n",
              "      box-shadow: 0px 1px 2px rgba(60, 64, 67, 0.3), 0px 1px 3px 1px rgba(60, 64, 67, 0.15);\n",
              "      fill: #174EA6;\n",
              "    }\n",
              "\n",
              "    [theme=dark] .colab-df-convert {\n",
              "      background-color: #3B4455;\n",
              "      fill: #D2E3FC;\n",
              "    }\n",
              "\n",
              "    [theme=dark] .colab-df-convert:hover {\n",
              "      background-color: #434B5C;\n",
              "      box-shadow: 0px 1px 3px 1px rgba(0, 0, 0, 0.15);\n",
              "      filter: drop-shadow(0px 1px 2px rgba(0, 0, 0, 0.3));\n",
              "      fill: #FFFFFF;\n",
              "    }\n",
              "  </style>\n",
              "\n",
              "      <script>\n",
              "        const buttonEl =\n",
              "          document.querySelector('#df-62647a97-9313-4210-97b4-1a559daed749 button.colab-df-convert');\n",
              "        buttonEl.style.display =\n",
              "          google.colab.kernel.accessAllowed ? 'block' : 'none';\n",
              "\n",
              "        async function convertToInteractive(key) {\n",
              "          const element = document.querySelector('#df-62647a97-9313-4210-97b4-1a559daed749');\n",
              "          const dataTable =\n",
              "            await google.colab.kernel.invokeFunction('convertToInteractive',\n",
              "                                                     [key], {});\n",
              "          if (!dataTable) return;\n",
              "\n",
              "          const docLinkHtml = 'Like what you see? Visit the ' +\n",
              "            '<a target=\"_blank\" href=https://colab.research.google.com/notebooks/data_table.ipynb>data table notebook</a>'\n",
              "            + ' to learn more about interactive tables.';\n",
              "          element.innerHTML = '';\n",
              "          dataTable['output_type'] = 'display_data';\n",
              "          await google.colab.output.renderOutput(dataTable, element);\n",
              "          const docLink = document.createElement('div');\n",
              "          docLink.innerHTML = docLinkHtml;\n",
              "          element.appendChild(docLink);\n",
              "        }\n",
              "      </script>\n",
              "    </div>\n",
              "  </div>\n",
              "  "
            ]
          },
          "metadata": {},
          "execution_count": 3
        }
      ]
    },
    {
      "cell_type": "code",
      "source": [
        "dataAneka = dataAinun['Aneka']\n",
        "dataAneka.describe()"
      ],
      "metadata": {
        "colab": {
          "base_uri": "https://localhost:8080/"
        },
        "id": "iy0OmvSgrbmU",
        "outputId": "03ab5276-f1f6-40a5-e146-bf97d02aba5e"
      },
      "execution_count": 4,
      "outputs": [
        {
          "output_type": "execute_result",
          "data": {
            "text/plain": [
              "count    5.360000e+02\n",
              "mean     5.211559e+07\n",
              "std      7.212737e+07\n",
              "min      1.875000e+05\n",
              "25%      3.187229e+06\n",
              "50%      2.320388e+07\n",
              "75%      7.361031e+07\n",
              "max      5.267075e+08\n",
              "Name: Aneka, dtype: float64"
            ]
          },
          "metadata": {},
          "execution_count": 4
        }
      ]
    },
    {
      "cell_type": "code",
      "source": [
        "dataAneka = dataAneka.dropna()"
      ],
      "metadata": {
        "id": "rOHr8Xx5rtgz"
      },
      "execution_count": 5,
      "outputs": []
    },
    {
      "cell_type": "code",
      "source": [
        "dataAneka"
      ],
      "metadata": {
        "colab": {
          "base_uri": "https://localhost:8080/"
        },
        "id": "JcZQrWxvxi5h",
        "outputId": "7d97ab73-00e8-4bae-cbc0-b51fa377ef26"
      },
      "execution_count": 6,
      "outputs": [
        {
          "output_type": "execute_result",
          "data": {
            "text/plain": [
              "0      5.267075e+08\n",
              "1      5.025018e+08\n",
              "2      5.000000e+08\n",
              "3      3.752046e+08\n",
              "4      3.072982e+08\n",
              "           ...     \n",
              "531    4.630000e+05\n",
              "532    3.406344e+05\n",
              "533    2.700000e+05\n",
              "534    2.410000e+05\n",
              "535    1.875000e+05\n",
              "Name: Aneka, Length: 536, dtype: float64"
            ]
          },
          "metadata": {},
          "execution_count": 6
        }
      ]
    },
    {
      "cell_type": "code",
      "source": [
        "dataAneka.describe()"
      ],
      "metadata": {
        "colab": {
          "base_uri": "https://localhost:8080/"
        },
        "id": "VonQc2Y5t4uA",
        "outputId": "94d60da0-b9a4-47d9-b18e-1a55eb0d780d"
      },
      "execution_count": 7,
      "outputs": [
        {
          "output_type": "execute_result",
          "data": {
            "text/plain": [
              "count    5.360000e+02\n",
              "mean     5.211559e+07\n",
              "std      7.212737e+07\n",
              "min      1.875000e+05\n",
              "25%      3.187229e+06\n",
              "50%      2.320388e+07\n",
              "75%      7.361031e+07\n",
              "max      5.267075e+08\n",
              "Name: Aneka, dtype: float64"
            ]
          },
          "metadata": {},
          "execution_count": 7
        }
      ]
    },
    {
      "cell_type": "code",
      "source": [
        "import numpy as np\n",
        "import scipy.stats\n",
        "import statistics\n",
        "import math\n",
        "# import powerlaw\n",
        "# from scipy.stats import powerlaw\n",
        "from scipy.stats import genpareto\n",
        "import matplotlib.pyplot as plt"
      ],
      "metadata": {
        "id": "-SWx1G3wt-K1"
      },
      "execution_count": 8,
      "outputs": []
    },
    {
      "cell_type": "code",
      "source": [
        "plt.hist(dataAneka, bins=50, ec='red')\n",
        "plt.title(\"Histogram of Heavy-Tailed Data Aneka\")\n",
        "plt.xlabel(\"Aneka\")\n",
        "plt.ylabel(\"Count\")\n",
        "plt.show()"
      ],
      "metadata": {
        "colab": {
          "base_uri": "https://localhost:8080/",
          "height": 295
        },
        "id": "lmFLFJq4uTVI",
        "outputId": "1028519b-54eb-419c-bf55-9bd430126ae7"
      },
      "execution_count": 60,
      "outputs": [
        {
          "output_type": "display_data",
          "data": {
            "text/plain": [
              "<Figure size 432x288 with 1 Axes>"
            ],
            "image/png": "[encoded data removed]"
          },
          "metadata": {
            "needs_background": "light"
          }
        }
      ]
    },
    {
      "cell_type": "code",
      "source": [
        "!pip install openturns"
      ],
      "metadata": {
        "colab": {
          "base_uri": "https://localhost:8080/"
        },
        "id": "sBQWtr3N4gYB",
        "outputId": "b26a10e9-c185-4472-fa24-7bea6b770faf"
      },
      "execution_count": null,
      "outputs": [
        {
          "output_type": "stream",
          "name": "stdout",
          "text": [
            "Looking in indexes: https://pypi.org/simple, https://us-python.pkg.dev/colab-wheels/public/simple/\n",
            "Collecting openturns\n",
            "  Downloading openturns-1.19.post1-cp37-cp37m-manylinux1_x86_64.manylinux_2_5_x86_64.whl (52.3 MB)\n",
            "\u001b[K     |████████████████████████████████| 52.3 MB 331 kB/s \n",
            "\u001b[?25hRequirement already satisfied: psutil in /usr/local/lib/python3.7/dist-packages (from openturns) (5.4.8)\n",
            "Requirement already satisfied: dill in /usr/local/lib/python3.7/dist-packages (from openturns) (0.3.5.1)\n",
            "Installing collected packages: openturns\n",
            "Successfully installed openturns-1.19.post1\n"
          ]
        }
      ]
    },
    {
      "cell_type": "code",
      "source": [
        "import numpy as np\n",
        "from scipy.stats import genextreme"
      ],
      "metadata": {
        "id": "--sL_BrOwmYi"
      },
      "execution_count": 12,
      "outputs": []
    },
    {
      "cell_type": "code",
      "source": [
        "shape, loc, scale = genextreme.fit(dataAneka)\n",
        "print(\"Fit parameters:\")\n",
        "print(f\"  shape: {shape:.4f}\")\n",
        "print(f\"  loc:   {loc:.4f}\")\n",
        "print(f\"  scale: {scale:.4f}\")\n",
        "print()"
      ],
      "metadata": {
        "id": "EyRgcDO75X4T",
        "outputId": "dbc8ea1b-357a-4652-f1d6-c62d28f24685",
        "colab": {
          "base_uri": "https://localhost:8080/"
        }
      },
      "execution_count": 41,
      "outputs": [
        {
          "output_type": "stream",
          "name": "stdout",
          "text": [
            "Fit parameters:\n",
            "  shape: -11.8909\n",
            "  loc:   187503.2818\n",
            "  scale: 39.0237\n",
            "\n"
          ]
        }
      ]
    },
    {
      "cell_type": "code",
      "source": [
        "xx = np.linspace(dataAneka.min(), dataAneka.max(),535)\n",
        "xx"
      ],
      "metadata": {
        "id": "8DJCetwfgXqF",
        "outputId": "25919021-4602-472a-d2ea-af0cc67a922c",
        "colab": {
          "base_uri": "https://localhost:8080/"
        }
      },
      "execution_count": 64,
      "outputs": [
        {
          "output_type": "execute_result",
          "data": {
            "text/plain": [
              "array([1.87500000e+05, 1.17349247e+06, 2.15948494e+06, 3.14547740e+06,\n",
              "       4.13146987e+06, 5.11746234e+06, 6.10345481e+06, 7.08944727e+06,\n",
              "       8.07543974e+06, 9.06143221e+06, 1.00474247e+07, 1.10334171e+07,\n",
              "       1.20194096e+07, 1.30054021e+07, 1.39913945e+07, 1.49773870e+07,\n",
              "       1.59633795e+07, 1.69493720e+07, 1.79353644e+07, 1.89213569e+07,\n",
              "       1.99073494e+07, 2.08933418e+07, 2.18793343e+07, 2.28653268e+07,\n",
              "       2.38513192e+07, 2.48373117e+07, 2.58233042e+07, 2.68092966e+07,\n",
              "       2.77952891e+07, 2.87812816e+07, 2.97672740e+07, 3.07532665e+07,\n",
              "       3.17392590e+07, 3.27252514e+07, 3.37112439e+07, 3.46972364e+07,\n",
              "       3.56832288e+07, 3.66692213e+07, 3.76552138e+07, 3.86412062e+07,\n",
              "       3.96271987e+07, 4.06131912e+07, 4.15991836e+07, 4.25851761e+07,\n",
              "       4.35711686e+07, 4.45571610e+07, 4.55431535e+07, 4.65291460e+07,\n",
              "       4.75151385e+07, 4.85011309e+07, 4.94871234e+07, 5.04731159e+07,\n",
              "       5.14591083e+07, 5.24451008e+07, 5.34310933e+07, 5.44170857e+07,\n",
              "       5.54030782e+07, 5.63890707e+07, 5.73750631e+07, 5.83610556e+07,\n",
              "       5.93470481e+07, 6.03330405e+07, 6.13190330e+07, 6.23050255e+07,\n",
              "       6.32910179e+07, 6.42770104e+07, 6.52630029e+07, 6.62489953e+07,\n",
              "       6.72349878e+07, 6.82209803e+07, 6.92069727e+07, 7.01929652e+07,\n",
              "       7.11789577e+07, 7.21649501e+07, 7.31509426e+07, 7.41369351e+07,\n",
              "       7.51229275e+07, 7.61089200e+07, 7.70949125e+07, 7.80809050e+07,\n",
              "       7.90668974e+07, 8.00528899e+07, 8.10388824e+07, 8.20248748e+07,\n",
              "       8.30108673e+07, 8.39968598e+07, 8.49828522e+07, 8.59688447e+07,\n",
              "       8.69548372e+07, 8.79408296e+07, 8.89268221e+07, 8.99128146e+07,\n",
              "       9.08988070e+07, 9.18847995e+07, 9.28707920e+07, 9.38567844e+07,\n",
              "       9.48427769e+07, 9.58287694e+07, 9.68147618e+07, 9.78007543e+07,\n",
              "       9.87867468e+07, 9.97727392e+07, 1.00758732e+08, 1.01744724e+08,\n",
              "       1.02730717e+08, 1.03716709e+08, 1.04702702e+08, 1.05688694e+08,\n",
              "       1.06674687e+08, 1.07660679e+08, 1.08646671e+08, 1.09632664e+08,\n",
              "       1.10618656e+08, 1.11604649e+08, 1.12590641e+08, 1.13576634e+08,\n",
              "       1.14562626e+08, 1.15548619e+08, 1.16534611e+08, 1.17520604e+08,\n",
              "       1.18506596e+08, 1.19492589e+08, 1.20478581e+08, 1.21464574e+08,\n",
              "       1.22450566e+08, 1.23436558e+08, 1.24422551e+08, 1.25408543e+08,\n",
              "       1.26394536e+08, 1.27380528e+08, 1.28366521e+08, 1.29352513e+08,\n",
              "       1.30338506e+08, 1.31324498e+08, 1.32310491e+08, 1.33296483e+08,\n",
              "       1.34282476e+08, 1.35268468e+08, 1.36254461e+08, 1.37240453e+08,\n",
              "       1.38226445e+08, 1.39212438e+08, 1.40198430e+08, 1.41184423e+08,\n",
              "       1.42170415e+08, 1.43156408e+08, 1.44142400e+08, 1.45128393e+08,\n",
              "       1.46114385e+08, 1.47100378e+08, 1.48086370e+08, 1.49072363e+08,\n",
              "       1.50058355e+08, 1.51044348e+08, 1.52030340e+08, 1.53016332e+08,\n",
              "       1.54002325e+08, 1.54988317e+08, 1.55974310e+08, 1.56960302e+08,\n",
              "       1.57946295e+08, 1.58932287e+08, 1.59918280e+08, 1.60904272e+08,\n",
              "       1.61890265e+08, 1.62876257e+08, 1.63862250e+08, 1.64848242e+08,\n",
              "       1.65834235e+08, 1.66820227e+08, 1.67806220e+08, 1.68792212e+08,\n",
              "       1.69778204e+08, 1.70764197e+08, 1.71750189e+08, 1.72736182e+08,\n",
              "       1.73722174e+08, 1.74708167e+08, 1.75694159e+08, 1.76680152e+08,\n",
              "       1.77666144e+08, 1.78652137e+08, 1.79638129e+08, 1.80624122e+08,\n",
              "       1.81610114e+08, 1.82596107e+08, 1.83582099e+08, 1.84568091e+08,\n",
              "       1.85554084e+08, 1.86540076e+08, 1.87526069e+08, 1.88512061e+08,\n",
              "       1.89498054e+08, 1.90484046e+08, 1.91470039e+08, 1.92456031e+08,\n",
              "       1.93442024e+08, 1.94428016e+08, 1.95414009e+08, 1.96400001e+08,\n",
              "       1.97385994e+08, 1.98371986e+08, 1.99357978e+08, 2.00343971e+08,\n",
              "       2.01329963e+08, 2.02315956e+08, 2.03301948e+08, 2.04287941e+08,\n",
              "       2.05273933e+08, 2.06259926e+08, 2.07245918e+08, 2.08231911e+08,\n",
              "       2.09217903e+08, 2.10203896e+08, 2.11189888e+08, 2.12175881e+08,\n",
              "       2.13161873e+08, 2.14147865e+08, 2.15133858e+08, 2.16119850e+08,\n",
              "       2.17105843e+08, 2.18091835e+08, 2.19077828e+08, 2.20063820e+08,\n",
              "       2.21049813e+08, 2.22035805e+08, 2.23021798e+08, 2.24007790e+08,\n",
              "       2.24993783e+08, 2.25979775e+08, 2.26965768e+08, 2.27951760e+08,\n",
              "       2.28937753e+08, 2.29923745e+08, 2.30909737e+08, 2.31895730e+08,\n",
              "       2.32881722e+08, 2.33867715e+08, 2.34853707e+08, 2.35839700e+08,\n",
              "       2.36825692e+08, 2.37811685e+08, 2.38797677e+08, 2.39783670e+08,\n",
              "       2.40769662e+08, 2.41755655e+08, 2.42741647e+08, 2.43727640e+08,\n",
              "       2.44713632e+08, 2.45699624e+08, 2.46685617e+08, 2.47671609e+08,\n",
              "       2.48657602e+08, 2.49643594e+08, 2.50629587e+08, 2.51615579e+08,\n",
              "       2.52601572e+08, 2.53587564e+08, 2.54573557e+08, 2.55559549e+08,\n",
              "       2.56545542e+08, 2.57531534e+08, 2.58517527e+08, 2.59503519e+08,\n",
              "       2.60489511e+08, 2.61475504e+08, 2.62461496e+08, 2.63447489e+08,\n",
              "       2.64433481e+08, 2.65419474e+08, 2.66405466e+08, 2.67391459e+08,\n",
              "       2.68377451e+08, 2.69363444e+08, 2.70349436e+08, 2.71335429e+08,\n",
              "       2.72321421e+08, 2.73307414e+08, 2.74293406e+08, 2.75279398e+08,\n",
              "       2.76265391e+08, 2.77251383e+08, 2.78237376e+08, 2.79223368e+08,\n",
              "       2.80209361e+08, 2.81195353e+08, 2.82181346e+08, 2.83167338e+08,\n",
              "       2.84153331e+08, 2.85139323e+08, 2.86125316e+08, 2.87111308e+08,\n",
              "       2.88097301e+08, 2.89083293e+08, 2.90069286e+08, 2.91055278e+08,\n",
              "       2.92041270e+08, 2.93027263e+08, 2.94013255e+08, 2.94999248e+08,\n",
              "       2.95985240e+08, 2.96971233e+08, 2.97957225e+08, 2.98943218e+08,\n",
              "       2.99929210e+08, 3.00915203e+08, 3.01901195e+08, 3.02887188e+08,\n",
              "       3.03873180e+08, 3.04859173e+08, 3.05845165e+08, 3.06831157e+08,\n",
              "       3.07817150e+08, 3.08803142e+08, 3.09789135e+08, 3.10775127e+08,\n",
              "       3.11761120e+08, 3.12747112e+08, 3.13733105e+08, 3.14719097e+08,\n",
              "       3.15705090e+08, 3.16691082e+08, 3.17677075e+08, 3.18663067e+08,\n",
              "       3.19649060e+08, 3.20635052e+08, 3.21621044e+08, 3.22607037e+08,\n",
              "       3.23593029e+08, 3.24579022e+08, 3.25565014e+08, 3.26551007e+08,\n",
              "       3.27536999e+08, 3.28522992e+08, 3.29508984e+08, 3.30494977e+08,\n",
              "       3.31480969e+08, 3.32466962e+08, 3.33452954e+08, 3.34438947e+08,\n",
              "       3.35424939e+08, 3.36410931e+08, 3.37396924e+08, 3.38382916e+08,\n",
              "       3.39368909e+08, 3.40354901e+08, 3.41340894e+08, 3.42326886e+08,\n",
              "       3.43312879e+08, 3.44298871e+08, 3.45284864e+08, 3.46270856e+08,\n",
              "       3.47256849e+08, 3.48242841e+08, 3.49228834e+08, 3.50214826e+08,\n",
              "       3.51200819e+08, 3.52186811e+08, 3.53172803e+08, 3.54158796e+08,\n",
              "       3.55144788e+08, 3.56130781e+08, 3.57116773e+08, 3.58102766e+08,\n",
              "       3.59088758e+08, 3.60074751e+08, 3.61060743e+08, 3.62046736e+08,\n",
              "       3.63032728e+08, 3.64018721e+08, 3.65004713e+08, 3.65990706e+08,\n",
              "       3.66976698e+08, 3.67962690e+08, 3.68948683e+08, 3.69934675e+08,\n",
              "       3.70920668e+08, 3.71906660e+08, 3.72892653e+08, 3.73878645e+08,\n",
              "       3.74864638e+08, 3.75850630e+08, 3.76836623e+08, 3.77822615e+08,\n",
              "       3.78808608e+08, 3.79794600e+08, 3.80780593e+08, 3.81766585e+08,\n",
              "       3.82752577e+08, 3.83738570e+08, 3.84724562e+08, 3.85710555e+08,\n",
              "       3.86696547e+08, 3.87682540e+08, 3.88668532e+08, 3.89654525e+08,\n",
              "       3.90640517e+08, 3.91626510e+08, 3.92612502e+08, 3.93598495e+08,\n",
              "       3.94584487e+08, 3.95570480e+08, 3.96556472e+08, 3.97542464e+08,\n",
              "       3.98528457e+08, 3.99514449e+08, 4.00500442e+08, 4.01486434e+08,\n",
              "       4.02472427e+08, 4.03458419e+08, 4.04444412e+08, 4.05430404e+08,\n",
              "       4.06416397e+08, 4.07402389e+08, 4.08388382e+08, 4.09374374e+08,\n",
              "       4.10360367e+08, 4.11346359e+08, 4.12332352e+08, 4.13318344e+08,\n",
              "       4.14304336e+08, 4.15290329e+08, 4.16276321e+08, 4.17262314e+08,\n",
              "       4.18248306e+08, 4.19234299e+08, 4.20220291e+08, 4.21206284e+08,\n",
              "       4.22192276e+08, 4.23178269e+08, 4.24164261e+08, 4.25150254e+08,\n",
              "       4.26136246e+08, 4.27122239e+08, 4.28108231e+08, 4.29094223e+08,\n",
              "       4.30080216e+08, 4.31066208e+08, 4.32052201e+08, 4.33038193e+08,\n",
              "       4.34024186e+08, 4.35010178e+08, 4.35996171e+08, 4.36982163e+08,\n",
              "       4.37968156e+08, 4.38954148e+08, 4.39940141e+08, 4.40926133e+08,\n",
              "       4.41912126e+08, 4.42898118e+08, 4.43884110e+08, 4.44870103e+08,\n",
              "       4.45856095e+08, 4.46842088e+08, 4.47828080e+08, 4.48814073e+08,\n",
              "       4.49800065e+08, 4.50786058e+08, 4.51772050e+08, 4.52758043e+08,\n",
              "       4.53744035e+08, 4.54730028e+08, 4.55716020e+08, 4.56702013e+08,\n",
              "       4.57688005e+08, 4.58673997e+08, 4.59659990e+08, 4.60645982e+08,\n",
              "       4.61631975e+08, 4.62617967e+08, 4.63603960e+08, 4.64589952e+08,\n",
              "       4.65575945e+08, 4.66561937e+08, 4.67547930e+08, 4.68533922e+08,\n",
              "       4.69519915e+08, 4.70505907e+08, 4.71491900e+08, 4.72477892e+08,\n",
              "       4.73463885e+08, 4.74449877e+08, 4.75435869e+08, 4.76421862e+08,\n",
              "       4.77407854e+08, 4.78393847e+08, 4.79379839e+08, 4.80365832e+08,\n",
              "       4.81351824e+08, 4.82337817e+08, 4.83323809e+08, 4.84309802e+08,\n",
              "       4.85295794e+08, 4.86281787e+08, 4.87267779e+08, 4.88253772e+08,\n",
              "       4.89239764e+08, 4.90225756e+08, 4.91211749e+08, 4.92197741e+08,\n",
              "       4.93183734e+08, 4.94169726e+08, 4.95155719e+08, 4.96141711e+08,\n",
              "       4.97127704e+08, 4.98113696e+08, 4.99099689e+08, 5.00085681e+08,\n",
              "       5.01071674e+08, 5.02057666e+08, 5.03043659e+08, 5.04029651e+08,\n",
              "       5.05015643e+08, 5.06001636e+08, 5.06987628e+08, 5.07973621e+08,\n",
              "       5.08959613e+08, 5.09945606e+08, 5.10931598e+08, 5.11917591e+08,\n",
              "       5.12903583e+08, 5.13889576e+08, 5.14875568e+08, 5.15861561e+08,\n",
              "       5.16847553e+08, 5.17833546e+08, 5.18819538e+08, 5.19805530e+08,\n",
              "       5.20791523e+08, 5.21777515e+08, 5.22763508e+08, 5.23749500e+08,\n",
              "       5.24735493e+08, 5.25721485e+08, 5.26707478e+08])"
            ]
          },
          "metadata": {},
          "execution_count": 64
        }
      ]
    },
    {
      "cell_type": "code",
      "source": [
        "xx[534]"
      ],
      "metadata": {
        "id": "GGHNStT7l3wJ",
        "outputId": "567c92f3-72be-4f10-80f7-813dbf516713",
        "colab": {
          "base_uri": "https://localhost:8080/"
        }
      },
      "execution_count": 65,
      "outputs": [
        {
          "output_type": "execute_result",
          "data": {
            "text/plain": [
              "524735492.83453184"
            ]
          },
          "metadata": {},
          "execution_count": 65
        }
      ]
    },
    {
      "cell_type": "code",
      "source": [
        "import numpy as np\n",
        "import matplotlib.pyplot as plt\n",
        "from scipy.stats import genextreme\n",
        "import math\n",
        "\n",
        "plt.hist(dataAneka, bins=50, ec='red')\n",
        "plt.title(\"Histogram of Heavy-Tailed Data Aneka\")\n",
        "plt.xlabel(\"Aneka\")\n",
        "plt.ylabel(\"Count\")\n",
        "#plt.show()\n",
        "\n",
        "\n",
        "\n",
        "#xx = np.linspace(dataAneka.min(), dataAneka.max())\n",
        "\n",
        "yy=[0 for x in range(535)]\n",
        "for i in range(0,534):\n",
        "  if xx[i]<loc:\n",
        "    yy[i]=yy[i]+(math.exp(-(1)*(-1*((xx[i]-loc)/scale)**(1/shape))))\n",
        "  else:\n",
        "    yy[i]=yy[i]+1\n",
        "\n",
        "#yy = genextreme.pdf(xx, shape, loc, scale)\n",
        "plt.plot(xx, yy, 'ro')\n",
        "plt.show()"
      ],
      "metadata": {
        "id": "dBPI4B1y57Vi",
        "outputId": "bc46ffb6-7ca2-469d-9f6d-c69c38af1f9b",
        "colab": {
          "base_uri": "https://localhost:8080/",
          "height": 312
        }
      },
      "execution_count": 68,
      "outputs": [
        {
          "output_type": "stream",
          "name": "stderr",
          "text": [
            "/usr/local/lib/python3.7/dist-packages/ipykernel_launcher.py:19: RuntimeWarning: invalid value encountered in double_scalars\n"
          ]
        },
        {
          "output_type": "display_data",
          "data": {
            "text/plain": [
              "<Figure size 432x288 with 1 Axes>"
            ],
            "image/png": "[encoded data removed]"
          },
          "metadata": {
            "needs_background": "light"
          }
        }
      ]
    },
    {
      "cell_type": "code",
      "source": [
        "yy"
      ],
      "metadata": {
        "id": "a9QcWhgqqKgc",
        "outputId": "9173f522-d1ff-4cbc-bbf0-f395f3759b20",
        "colab": {
          "base_uri": "https://localhost:8080/"
        }
      },
      "execution_count": 59,
      "outputs": [
        {
          "output_type": "execute_result",
          "data": {
            "text/plain": [
              "[nan,\n",
              " 1,\n",
              " 1,\n",
              " 1,\n",
              " 1,\n",
              " 1,\n",
              " 1,\n",
              " 1,\n",
              " 1,\n",
              " 1,\n",
              " 1,\n",
              " 1,\n",
              " 1,\n",
              " 1,\n",
              " 1,\n",
              " 1,\n",
              " 1,\n",
              " 1,\n",
              " 1,\n",
              " 1,\n",
              " 1,\n",
              " 1,\n",
              " 1,\n",
              " 1,\n",
              " 1,\n",
              " 1,\n",
              " 1,\n",
              " 1,\n",
              " 1,\n",
              " 1,\n",
              " 1,\n",
              " 1,\n",
              " 1,\n",
              " 1,\n",
              " 1,\n",
              " 1,\n",
              " 1,\n",
              " 1,\n",
              " 1,\n",
              " 1,\n",
              " 1,\n",
              " 1,\n",
              " 1,\n",
              " 1,\n",
              " 1,\n",
              " 1,\n",
              " 1,\n",
              " 1,\n",
              " 1,\n",
              " 0]"
            ]
          },
          "metadata": {},
          "execution_count": 59
        }
      ]
    }
  ]
}