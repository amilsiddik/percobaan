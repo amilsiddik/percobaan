{
  "nbformat": 4,
  "nbformat_minor": 0,
  "metadata": {
    "colab": {
      "name": "JawabSoalPertemuan10.ipynb",
      "provenance": [],
      "authorship_tag": "ABX9TyM93kNvgtUyTiI0XgsAatRa",
      "include_colab_link": true
    },
    "kernelspec": {
      "name": "python3",
      "display_name": "Python 3"
    },
    "language_info": {
      "name": "python"
    }
  },
  "cells": [
    {
      "cell_type": "markdown",
      "metadata": {
        "id": "view-in-github",
        "colab_type": "text"
      },
      "source": [
        "<a href=\"https://colab.research.google.com/github/amilsiddik/percobaan/blob/main/JawabSoalPertemuan10.ipynb\" target=\"_parent\"><img src=\"https://colab.research.google.com/assets/colab-badge.svg\" alt=\"Open In Colab\"/></a>"
      ]
    },
    {
      "cell_type": "code",
      "execution_count": 2,
      "metadata": {
        "colab": {
          "base_uri": "https://localhost:8080/"
        },
        "id": "lv3Mz2V2e64H",
        "outputId": "f54ffe12-5424-42b3-b767-3cdd69cc9749"
      },
      "outputs": [
        {
          "output_type": "stream",
          "name": "stdout",
          "text": [
            "masukkan nilai x1 = 3\n",
            "masukkan nilai x2 = 4\n",
            "masukkan nilai x3 = 5\n",
            "jadi nilai rata-rata 3 bilangan adalah =  4.0\n",
            "jadi nilai rata-rata 3 bilangan adalah =  4\n"
          ]
        }
      ],
      "source": [
        "#Nomor1\n",
        "import statistics\n",
        "x1 = eval(input('masukkan nilai x1 = '))\n",
        "x2 = eval(input('masukkan nilai x2 = '))\n",
        "x3 = eval(input('masukkan nilai x3 = '))\n",
        "rata2 = (x1+x2+x3)/3\n",
        "rata2baru = statistics.mean([x1,x2,x3])\n",
        "print('jadi nilai rata-rata 3 bilangan adalah = ',rata2)\n",
        "print('jadi nilai rata-rata 3 bilangan adalah = ',rata2baru)"
      ]
    },
    {
      "cell_type": "code",
      "source": [
        "#Nomor 2\n",
        "x= eval(input('masukkan nilai x'))\n",
        "print('nilai f(x)',(2*x**3+2*x+15)/x)"
      ],
      "metadata": {
        "colab": {
          "base_uri": "https://localhost:8080/"
        },
        "id": "_d0lYxy1h6DQ",
        "outputId": "46837e5c-19bf-4f46-9c74-9a3e81a32d6f"
      },
      "execution_count": 8,
      "outputs": [
        {
          "output_type": "stream",
          "name": "stdout",
          "text": [
            "masukkan nilai x3\n",
            "nilai f(x) 25.0\n"
          ]
        }
      ]
    },
    {
      "cell_type": "code",
      "source": [
        "#Nomor 3\n",
        "A= eval(input('masukkan nilai A = '))\n",
        "B= eval(input('masukkan nilai B = '))\n",
        "C= eval(input('masukkan nilai C = '))\n",
        "D= eval(input('masukkan nilai D = '))\n",
        "A,B,C,D=B,D,A,C\n",
        "print(A,B,C,D)"
      ],
      "metadata": {
        "colab": {
          "base_uri": "https://localhost:8080/"
        },
        "id": "xfven7PLjZDu",
        "outputId": "ad171d58-905f-40d4-d9cc-9d39399ef3b5"
      },
      "execution_count": 9,
      "outputs": [
        {
          "output_type": "stream",
          "name": "stdout",
          "text": [
            "masukkan nilai A = 1\n",
            "masukkan nilai B = 2\n",
            "masukkan nilai C = 3\n",
            "masukkan nilai D = 4\n",
            "2 4 1 3\n"
          ]
        }
      ]
    }
  ]
}