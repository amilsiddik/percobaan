{
  "nbformat": 4,
  "nbformat_minor": 0,
  "metadata": {
    "colab": {
      "name": "Pertemuan11.ipynb",
      "provenance": [],
      "authorship_tag": "ABX9TyNI9onK3emDw5pEJvoRsJou",
      "include_colab_link": true
    },
    "kernelspec": {
      "name": "python3",
      "display_name": "Python 3"
    },
    "language_info": {
      "name": "python"
    }
  },
  "cells": [
    {
      "cell_type": "markdown",
      "metadata": {
        "id": "view-in-github",
        "colab_type": "text"
      },
      "source": [
        "<a href=\"https://colab.research.google.com/github/amilsiddik/percobaan/blob/main/Pertemuan11.ipynb\" target=\"_parent\"><img src=\"https://colab.research.google.com/assets/colab-badge.svg\" alt=\"Open In Colab\"/></a>"
      ]
    },
    {
      "cell_type": "code",
      "execution_count": 7,
      "metadata": {
        "colab": {
          "base_uri": "https://localhost:8080/"
        },
        "id": "1uJpiMotXFtU",
        "outputId": "464c7cf4-0e2e-4f51-e10b-e59247673b7f"
      },
      "outputs": [
        {
          "output_type": "stream",
          "name": "stdout",
          "text": [
            "bilangan pertama X= 5 \n",
            "bilangan kedua Y= 5\n",
            "bilangannya sama yaitu 5\n"
          ]
        }
      ],
      "source": [
        "x=5\n",
        "y=5\n",
        "print(\"bilangan pertama X= %d \\nbilangan kedua Y= %d\" %(x,y))\n",
        "if(x>y):\n",
        "  print(\"X= \",x)\n",
        "  print(\"bilangan terbesar\")\n",
        "if(x<y):\n",
        "  print(\"Y= \",y)\n",
        "  print(\"bilangan terbesar\")\n",
        "if(x==y):\n",
        "  print(\"bilangannya sama yaitu\",x)"
      ]
    },
    {
      "cell_type": "code",
      "source": [
        "a=3\n",
        "b=5\n",
        "c=1\n",
        "D=b*b-4*a*c\n",
        "if(D<0):\n",
        "  print(\"Akar imajiner\")\n",
        "elif(D>0):\n",
        "  print(\"Akar nyata berlainan\")\n",
        "else: print(\"Akar Kembar\")"
      ],
      "metadata": {
        "colab": {
          "base_uri": "https://localhost:8080/"
        },
        "id": "vW0pR4qbaL3V",
        "outputId": "c37e620b-06bd-4c47-b987-cad257e6efff"
      },
      "execution_count": 8,
      "outputs": [
        {
          "output_type": "stream",
          "name": "stdout",
          "text": [
            "Akar nyata berlainan\n"
          ]
        }
      ]
    },
    {
      "cell_type": "code",
      "source": [
        "umur=int(input(\"Umur Anda : \"))\n",
        "if(umur<=5): kriteria=\"Balita\"\n",
        "if(umur>5 and umur <=13): kriteria=\"Anak-anak\"\n",
        "if(umur>13 and umur <=25): kriteria=\"Remaja\"\n",
        "if(umur>25 and umur <=35): kriteria=\"Dewasa\"\n",
        "if(umur>35 and umur <=55): kriteria=\"Orang Tua\"\n",
        "if(umur>55): kriteria=\"Lansia\"\n",
        "print(\"Umur = %d dan kriteria yaitu %s\" %(umur, kriteria))"
      ],
      "metadata": {
        "colab": {
          "base_uri": "https://localhost:8080/"
        },
        "id": "ulKArK0PlHzK",
        "outputId": "146a8143-98c8-44cb-fd7f-5444d9738904"
      },
      "execution_count": 9,
      "outputs": [
        {
          "output_type": "stream",
          "name": "stdout",
          "text": [
            "Umur Anda : 35\n",
            "Umur = 35 dan kriteria yaitu Dewasa\n"
          ]
        }
      ]
    },
    {
      "cell_type": "code",
      "source": [
        ""
      ],
      "metadata": {
        "id": "dOe8oJeXmBw2"
      },
      "execution_count": null,
      "outputs": []
    }
  ]
}