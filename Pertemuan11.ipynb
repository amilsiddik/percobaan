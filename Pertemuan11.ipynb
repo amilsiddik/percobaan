{
  "nbformat": 4,
  "nbformat_minor": 0,
  "metadata": {
    "colab": {
      "name": "Pertemuan11.ipynb",
      "provenance": [],
      "authorship_tag": "ABX9TyNvQZWEQmbu5hOThbHkamSi",
      "include_colab_link": true
    },
    "kernelspec": {
      "name": "python3",
      "display_name": "Python 3"
    },
    "language_info": {
      "name": "python"
    }
  },
  "cells": [
    {
      "cell_type": "markdown",
      "metadata": {
        "id": "view-in-github",
        "colab_type": "text"
      },
      "source": [
        "<a href=\"https://colab.research.google.com/github/amilsiddik/percobaan/blob/main/Pertemuan11.ipynb\" target=\"_parent\"><img src=\"https://colab.research.google.com/assets/colab-badge.svg\" alt=\"Open In Colab\"/></a>"
      ]
    },
    {
      "cell_type": "code",
      "execution_count": null,
      "metadata": {
        "colab": {
          "base_uri": "https://localhost:8080/"
        },
        "id": "1uJpiMotXFtU",
        "outputId": "464c7cf4-0e2e-4f51-e10b-e59247673b7f"
      },
      "outputs": [
        {
          "output_type": "stream",
          "name": "stdout",
          "text": [
            "bilangan pertama X= 5 \n",
            "bilangan kedua Y= 5\n",
            "bilangannya sama yaitu 5\n"
          ]
        }
      ],
      "source": [
        "x=5\n",
        "y=5\n",
        "print(\"bilangan pertama X= %d \\nbilangan kedua Y= %d\" %(x,y))\n",
        "if(x>y):\n",
        "  print(\"X= \",x)\n",
        "  print(\"bilangan terbesar\")\n",
        "if(x<y):\n",
        "  print(\"Y= \",y)\n",
        "  print(\"bilangan terbesar\")\n",
        "if(x==y):\n",
        "  print(\"bilangannya sama yaitu\",x)"
      ]
    },
    {
      "cell_type": "code",
      "source": [
        "a=3\n",
        "b=5\n",
        "c=1\n",
        "D=b*b-4*a*c\n",
        "if(D<0):\n",
        "  print(\"Akar imajiner\")\n",
        "elif(D>0):\n",
        "  print(\"Akar nyata berlainan\")\n",
        "else: print(\"Akar Kembar\")"
      ],
      "metadata": {
        "colab": {
          "base_uri": "https://localhost:8080/"
        },
        "id": "vW0pR4qbaL3V",
        "outputId": "c37e620b-06bd-4c47-b987-cad257e6efff"
      },
      "execution_count": null,
      "outputs": [
        {
          "output_type": "stream",
          "name": "stdout",
          "text": [
            "Akar nyata berlainan\n"
          ]
        }
      ]
    },
    {
      "cell_type": "code",
      "source": [
        "umur=int(input(\"Umur Anda : \"))\n",
        "if(umur<=5): kriteria=\"Balita\"\n",
        "if(umur>5 and umur <=13): kriteria=\"Anak-anak\"\n",
        "if(umur>13 and umur <=25): kriteria=\"Remaja\"\n",
        "if(umur>25 and umur <=35): kriteria=\"Dewasa\"\n",
        "if(umur>35 and umur <=55): kriteria=\"Orang Tua\"\n",
        "if(umur>55): kriteria=\"Lansia\"\n",
        "print(\"Umur = %d dan kriteria yaitu %s\" %(umur, kriteria))"
      ],
      "metadata": {
        "colab": {
          "base_uri": "https://localhost:8080/"
        },
        "id": "ulKArK0PlHzK",
        "outputId": "146a8143-98c8-44cb-fd7f-5444d9738904"
      },
      "execution_count": null,
      "outputs": [
        {
          "output_type": "stream",
          "name": "stdout",
          "text": [
            "Umur Anda : 35\n",
            "Umur = 35 dan kriteria yaitu Dewasa\n"
          ]
        }
      ]
    },
    {
      "cell_type": "code",
      "source": [
        "nama = input()\n",
        "nIK = int(input())\n",
        "status = input()\n",
        "gol = input()\n",
        "if status == \"Staff\":\n",
        "    gaji = 1000000\n",
        "    if gol == \"A\":\n",
        "        bonus = 200000\n",
        "    else:\n",
        "        if gol == \"B\":\n",
        "            bonus = 400000\n",
        "        else:\n",
        "            bonus = 550000\n",
        "else:\n",
        "    status = \"Honor\"\n",
        "    gaji = 750000\n",
        "    if gol == \"A\":\n",
        "        bonus = 150000\n",
        "    else:\n",
        "        if gol == \"B\":\n",
        "            bonus = 275000\n",
        "        else:\n",
        "            bonus = 480000\n",
        "gatot = gaji + bonus\n",
        "print(\"Gaji = Rp\" + str(gaji))\n",
        "print(\"Bonus = Rp\" + str(bonus))\n",
        "print(\"Gatot = Rp\" + str(gatot))\n"
      ],
      "metadata": {
        "id": "dOe8oJeXmBw2",
        "outputId": "f2388028-1e60-4ae2-a0b9-191851c29007",
        "colab": {
          "base_uri": "https://localhost:8080/"
        }
      },
      "execution_count": 1,
      "outputs": [
        {
          "output_type": "stream",
          "name": "stdout",
          "text": [
            "Adi\n",
            "1231878189\n",
            "Staff\n",
            "C\n",
            "Gaji = Rp1000000\n",
            "Bonus = Rp550000\n",
            "Gatot = Rp1550000\n"
          ]
        }
      ]
    }
  ]
}