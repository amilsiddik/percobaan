{
  "nbformat": 4,
  "nbformat_minor": 0,
  "metadata": {
    "colab": {
      "provenance": [],
      "mount_file_id": "15BoO_7yZ1gUYliWpIg_sQxJFfJA4Eu19",
      "authorship_tag": "ABX9TyNEi4A3GzI520rHzmv+9eTt",
      "include_colab_link": true
    },
    "kernelspec": {
      "name": "python3",
      "display_name": "Python 3"
    },
    "language_info": {
      "name": "python"
    }
  },
  "cells": [
    {
      "cell_type": "markdown",
      "metadata": {
        "id": "view-in-github",
        "colab_type": "text"
      },
      "source": [
        "<a href=\"https://colab.research.google.com/github/amilsiddik/percobaan/blob/main/Innung.ipynb\" target=\"_parent\"><img src=\"https://colab.research.google.com/assets/colab-badge.svg\" alt=\"Open In Colab\"/></a>"
      ]
    },
    {
      "cell_type": "code",
      "execution_count": 1,
      "metadata": {
        "id": "eTRFRYg5w18p"
      },
      "outputs": [],
      "source": [
        "import pandas as pd\n",
        "dataAinun = pd.read_excel('/content/drive/MyDrive/Ainun Folder/Aneka sort.xlsx')\n",
        "dataAneka = dataAinun['Aneka']\n",
        "dataAneka = dataAneka.dropna()"
      ]
    },
    {
      "cell_type": "code",
      "source": [
        "dataSort=dataAneka.sort_values()\n",
        "dataSort"
      ],
      "metadata": {
        "colab": {
          "base_uri": "https://localhost:8080/"
        },
        "id": "r-VmYhrMxbD2",
        "outputId": "164ea6e0-b123-4cba-be44-db7c65a91235"
      },
      "execution_count": 11,
      "outputs": [
        {
          "output_type": "execute_result",
          "data": {
            "text/plain": [
              "535    1.875000e+05\n",
              "534    2.410000e+05\n",
              "533    2.700000e+05\n",
              "532    3.406344e+05\n",
              "531    4.630000e+05\n",
              "           ...     \n",
              "4      3.072982e+08\n",
              "3      3.752046e+08\n",
              "2      5.000000e+08\n",
              "1      5.025018e+08\n",
              "0      5.267075e+08\n",
              "Name: Aneka, Length: 536, dtype: float64"
            ]
          },
          "metadata": {},
          "execution_count": 11
        }
      ]
    },
    {
      "cell_type": "code",
      "source": [
        "536*0.9"
      ],
      "metadata": {
        "colab": {
          "base_uri": "https://localhost:8080/"
        },
        "id": "oJD2Q738yd1W",
        "outputId": "75927055-8412-4eb7-c44d-ad7fdb7de7e2"
      },
      "execution_count": 5,
      "outputs": [
        {
          "output_type": "execute_result",
          "data": {
            "text/plain": [
              "482.40000000000003"
            ]
          },
          "metadata": {},
          "execution_count": 5
        }
      ]
    },
    {
      "cell_type": "code",
      "source": [
        "dataExtreme = dataSort.iloc[481:]\n",
        "dataExtreme"
      ],
      "metadata": {
        "colab": {
          "base_uri": "https://localhost:8080/"
        },
        "id": "Z_PcsrRoxnZc",
        "outputId": "79313f12-109e-4ac0-bf18-4f57f45e753d"
      },
      "execution_count": 12,
      "outputs": [
        {
          "output_type": "execute_result",
          "data": {
            "text/plain": [
              "54    1.592581e+08\n",
              "53    1.611504e+08\n",
              "52    1.629871e+08\n",
              "51    1.673013e+08\n",
              "50    1.690155e+08\n",
              "49    1.712399e+08\n",
              "48    1.718835e+08\n",
              "47    1.734077e+08\n",
              "46    1.766365e+08\n",
              "45    1.770823e+08\n",
              "44    1.784919e+08\n",
              "43    1.795672e+08\n",
              "42    1.809774e+08\n",
              "41    1.819907e+08\n",
              "40    1.822372e+08\n",
              "39    1.841620e+08\n",
              "38    1.843756e+08\n",
              "37    1.843814e+08\n",
              "36    1.851348e+08\n",
              "35    1.861288e+08\n",
              "34    1.919476e+08\n",
              "33    1.922570e+08\n",
              "32    1.926797e+08\n",
              "31    1.938153e+08\n",
              "30    1.944864e+08\n",
              "29    1.947997e+08\n",
              "28    1.959901e+08\n",
              "27    1.965223e+08\n",
              "26    1.971304e+08\n",
              "25    1.977997e+08\n",
              "24    1.985148e+08\n",
              "23    1.987384e+08\n",
              "22    2.043787e+08\n",
              "21    2.050414e+08\n",
              "20    2.064099e+08\n",
              "19    2.067890e+08\n",
              "18    2.099189e+08\n",
              "17    2.153105e+08\n",
              "16    2.166753e+08\n",
              "15    2.209219e+08\n",
              "14    2.218268e+08\n",
              "13    2.233548e+08\n",
              "12    2.246407e+08\n",
              "11    2.275253e+08\n",
              "10    2.362098e+08\n",
              "9     2.453835e+08\n",
              "8     2.463724e+08\n",
              "7     2.574630e+08\n",
              "6     2.711614e+08\n",
              "5     2.764350e+08\n",
              "4     3.072982e+08\n",
              "3     3.752046e+08\n",
              "2     5.000000e+08\n",
              "1     5.025018e+08\n",
              "0     5.267075e+08\n",
              "Name: Aneka, dtype: float64"
            ]
          },
          "metadata": {},
          "execution_count": 12
        }
      ]
    },
    {
      "cell_type": "code",
      "source": [
        "import numpy as np\n",
        "import scipy.stats\n",
        "import statistics\n",
        "import math\n",
        "# import powerlaw\n",
        "# from scipy.stats import powerlaw\n",
        "from scipy.stats import genpareto\n",
        "import matplotlib.pyplot as plt"
      ],
      "metadata": {
        "id": "e2dA3c0s0Vbz"
      },
      "execution_count": 13,
      "outputs": []
    },
    {
      "cell_type": "code",
      "source": [
        "plt.hist(dataExtreme, bins=50, density = True, log = True)\n",
        "plt.title(\"Histogram of Heavy-Tailed Data Aneka\")\n",
        "plt.xlabel(\"Severity Claim Aneka\")\n",
        "plt.ylabel(\"Probability Density\")\n",
        "plt.show()"
      ],
      "metadata": {
        "colab": {
          "base_uri": "https://localhost:8080/",
          "height": 295
        },
        "id": "MZ3KWk4Pxuct",
        "outputId": "ce16d571-4baf-4c8f-9286-89956b74e4f7"
      },
      "execution_count": 14,
      "outputs": [
        {
          "output_type": "display_data",
          "data": {
            "text/plain": [
              "<Figure size 432x288 with 1 Axes>"
            ],
            "image/png": "[encoded data removed]"
          },
          "metadata": {
            "needs_background": "light"
          }
        }
      ]
    },
    {
      "cell_type": "code",
      "source": [
        "import numpy as np\n",
        "from scipy.stats import genextreme"
      ],
      "metadata": {
        "id": "B3pBDV9c0mcK"
      },
      "execution_count": 15,
      "outputs": []
    },
    {
      "cell_type": "code",
      "source": [
        "shape, loc, scale = genextreme.fit(dataExtreme)\n",
        "print(\"Fit parameters:\")\n",
        "print(f\"  shape: {shape:.4f}\")\n",
        "print(f\"  loc:   {loc:.4f}\")\n",
        "print(f\"  scale: {scale:.4f}\")\n",
        "print()"
      ],
      "metadata": {
        "colab": {
          "base_uri": "https://localhost:8080/"
        },
        "id": "RaCfJM8p0o4Z",
        "outputId": "5ff5f7cc-fd1b-45ea-d163-7dca3e7e19a6"
      },
      "execution_count": 17,
      "outputs": [
        {
          "output_type": "stream",
          "name": "stdout",
          "text": [
            "Fit parameters:\n",
            "  shape: -15.7769\n",
            "  loc:   159258144.8423\n",
            "  scale: 0.3524\n",
            "\n"
          ]
        }
      ]
    },
    {
      "cell_type": "code",
      "source": [
        "import numpy as np\n",
        "import matplotlib.pyplot as plt\n",
        "from scipy.stats import genextreme as gev\n",
        "\n",
        "plt.hist(dataExtreme, bins=50, density = True, log = True)\n",
        "plt.title(\"Histogram of Heavy-Tailed Data Aneka\")\n",
        "plt.xlabel(\"Severity Claim Aneka\")\n",
        "plt.ylabel(\"PDF\")\n",
        "#plt.show()\n",
        "\n",
        "xx = np.linspace(150000000, 600000000, 55)\n",
        "yy = gev.pdf(xx, shape, loc, scale)\n",
        "plt.plot(xx, yy, '--')\n",
        "plt.legend([\"GEV\",\"Histogram\"], loc =\"upper right\")\n",
        "plt.show()"
      ],
      "metadata": {
        "colab": {
          "base_uri": "https://localhost:8080/",
          "height": 295
        },
        "id": "j7yHq5gS0x3c",
        "outputId": "4044f071-0e98-4d17-872e-e182a29d0470"
      },
      "execution_count": 22,
      "outputs": [
        {
          "output_type": "display_data",
          "data": {
            "text/plain": [
              "<Figure size 432x288 with 1 Axes>"
            ],
            "image/png": "[encoded data removed]"
          },
          "metadata": {
            "needs_background": "light"
          }
        }
      ]
    },
    {
      "cell_type": "code",
      "source": [
        "alpha = float(0.05)\n",
        "scale1 = float(scale)\n",
        "shape1 = float(shape)\n",
        "loc1 = float(loc)\n",
        "VaR=(loc1-((scale1/shape1)*(1+(math.log(1-alpha))**(-shape1))))\n",
        "VaR"
      ],
      "metadata": {
        "colab": {
          "base_uri": "https://localhost:8080/"
        },
        "id": "Ghjjt9Mn1C-O",
        "outputId": "66a73c45-a8d2-4297-a3b5-41929fa86e16"
      },
      "execution_count": 20,
      "outputs": [
        {
          "output_type": "execute_result",
          "data": {
            "text/plain": [
              "(159258144.86467242-6.415183354944523e-23j)"
            ]
          },
          "metadata": {},
          "execution_count": 20
        }
      ]
    }
  ]
}