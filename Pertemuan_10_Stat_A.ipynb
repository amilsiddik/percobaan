{
  "nbformat": 4,
  "nbformat_minor": 0,
  "metadata": {
    "colab": {
      "name": "Pertemuan 10 Stat A.ipynb",
      "provenance": [],
      "authorship_tag": "ABX9TyPQap8X0t9kHGHOkghz8WTr",
      "include_colab_link": true
    },
    "kernelspec": {
      "name": "python3",
      "display_name": "Python 3"
    },
    "language_info": {
      "name": "python"
    }
  },
  "cells": [
    {
      "cell_type": "markdown",
      "metadata": {
        "id": "view-in-github",
        "colab_type": "text"
      },
      "source": [
        "<a href=\"https://colab.research.google.com/github/amilsiddik/percobaan/blob/main/Pertemuan_10_Stat_A.ipynb\" target=\"_parent\"><img src=\"https://colab.research.google.com/assets/colab-badge.svg\" alt=\"Open In Colab\"/></a>"
      ]
    },
    {
      "cell_type": "code",
      "execution_count": 2,
      "metadata": {
        "colab": {
          "base_uri": "https://localhost:8080/"
        },
        "id": "ifUhigKUTqx7",
        "outputId": "f81d3d2f-3721-47ce-94ea-185c55ba01a2"
      },
      "outputs": [
        {
          "name": "stdout",
          "output_type": "stream",
          "text": [
            "Nama Anda : Amil\n"
          ]
        }
      ],
      "source": [
        "Nama = input(\"Nama Anda : \")"
      ]
    },
    {
      "cell_type": "code",
      "source": [
        "Nama"
      ],
      "metadata": {
        "colab": {
          "base_uri": "https://localhost:8080/",
          "height": 35
        },
        "id": "jIWGBJCMWM_5",
        "outputId": "a8a32901-3b78-48f8-ae98-69e27d2a299a"
      },
      "execution_count": 3,
      "outputs": [
        {
          "output_type": "execute_result",
          "data": {
            "text/plain": [
              "'Amil'"
            ],
            "application/vnd.google.colaboratory.intrinsic+json": {
              "type": "string"
            }
          },
          "metadata": {},
          "execution_count": 3
        }
      ]
    },
    {
      "cell_type": "code",
      "source": [
        "x1 = eval(input(\"masukkan x1 : \"))"
      ],
      "metadata": {
        "colab": {
          "base_uri": "https://localhost:8080/"
        },
        "id": "GMYnEyR8Wu9e",
        "outputId": "c592ab90-4366-4ef1-f69b-564e5d271ba5"
      },
      "execution_count": 9,
      "outputs": [
        {
          "name": "stdout",
          "output_type": "stream",
          "text": [
            "masukkan x1 : 3.12\n"
          ]
        }
      ]
    },
    {
      "cell_type": "code",
      "source": [
        "x1"
      ],
      "metadata": {
        "colab": {
          "base_uri": "https://localhost:8080/"
        },
        "id": "gkIv3M9jW6gW",
        "outputId": "1ecc407b-0f1f-4546-f0db-f6d74b3d50c4"
      },
      "execution_count": 10,
      "outputs": [
        {
          "output_type": "execute_result",
          "data": {
            "text/plain": [
              "3.12"
            ]
          },
          "metadata": {},
          "execution_count": 10
        }
      ]
    },
    {
      "cell_type": "code",
      "source": [
        "nama_brg = input(\"nama barang = \")\n",
        "harga_satuan = eval(input((\"harga satuan = \")))\n",
        "jum_brg = eval(input((\"jumlah barang = \")))\n",
        "total_hrg_brg = 0.0\n",
        "harga_beli = jum_brg * harga_satuan\n",
        "total_hrg_brg = harga_beli + total_hrg_brg\n",
        "print(\"Total Harga yang dibayar Rp\", total_hrg_brg)"
      ],
      "metadata": {
        "colab": {
          "base_uri": "https://localhost:8080/"
        },
        "id": "ZichIc6jYUJy",
        "outputId": "7d2e8592-7815-4da9-a4ab-b708019869b9"
      },
      "execution_count": 12,
      "outputs": [
        {
          "output_type": "stream",
          "name": "stdout",
          "text": [
            "nama barang = kaos kaki\n",
            "harga satuan = 1000\n",
            "jumlah barang = 3\n",
            "Total Harga yang dibayar Rp 3000\n"
          ]
        }
      ]
    },
    {
      "cell_type": "code",
      "source": [
        "Kode ='AE107'\n",
        "NamaBarang = 'Kaca Mata'\n",
        "HargaSatuan = 125000\n",
        "Stok = 10\n",
        "print('Kode barang = %s \\n Nama Barang = %s \\n Harga Satuan =Rp. %d \\n Stok Barang =%d' %(Kode,NamaBarang,HargaSatuan,Stok))"
      ],
      "metadata": {
        "colab": {
          "base_uri": "https://localhost:8080/"
        },
        "id": "SURETAjJZste",
        "outputId": "ef78c725-de3a-4068-db73-eaa594e1d2b8"
      },
      "execution_count": 13,
      "outputs": [
        {
          "output_type": "stream",
          "name": "stdout",
          "text": [
            "Kode barang = AE107 \n",
            " Nama Barang = Kaca Mata \n",
            " Harga Satuan =Rp. 125000 \n",
            " Stok Barang =10\n"
          ]
        }
      ]
    },
    {
      "cell_type": "code",
      "source": [
        "HargaBarang = float(HargaSatuan)"
      ],
      "metadata": {
        "id": "NwP-oXIUbbaA"
      },
      "execution_count": 15,
      "outputs": []
    },
    {
      "cell_type": "code",
      "source": [
        "print('Harga Satuan Barang - Rp. %.2f')"
      ],
      "metadata": {
        "colab": {
          "base_uri": "https://localhost:8080/"
        },
        "id": "iVFdu7VTbm_x",
        "outputId": "11bd4d98-051d-4753-f7aa-7df151fff677"
      },
      "execution_count": 18,
      "outputs": [
        {
          "output_type": "stream",
          "name": "stdout",
          "text": [
            "Harga Satuan Barang - Rp. %.2f\n"
          ]
        }
      ]
    },
    {
      "cell_type": "code",
      "source": [
        "print('Harga Satuan Barang - Rp. %.2f' %(HargaBarang))"
      ],
      "metadata": {
        "colab": {
          "base_uri": "https://localhost:8080/"
        },
        "id": "B9WpZ7o2bwiJ",
        "outputId": "e7898745-ce57-4b52-bb7b-b3b67a019604"
      },
      "execution_count": 20,
      "outputs": [
        {
          "output_type": "stream",
          "name": "stdout",
          "text": [
            "Harga Satuan Barang - Rp. 125000.00\n"
          ]
        }
      ]
    },
    {
      "cell_type": "code",
      "source": [
        "print('Harga Satuan Barang - Rp. %.2f' %(Stok))"
      ],
      "metadata": {
        "colab": {
          "base_uri": "https://localhost:8080/"
        },
        "id": "5BRFfM3mcFLW",
        "outputId": "423eb3c5-f2c4-46fa-a20e-94dd1445ed42"
      },
      "execution_count": 21,
      "outputs": [
        {
          "output_type": "stream",
          "name": "stdout",
          "text": [
            "Harga Satuan Barang - Rp. 10.00\n"
          ]
        }
      ]
    },
    {
      "cell_type": "code",
      "source": [
        "import math\n",
        "R = eval (input('masukkan jari2 tabung = '))\n",
        "T = eval (input('masukkan tinggi tabung = '))\n",
        "LuasTab = math.pi*R*R*T\n",
        "print('Luas Tabung adalah = %.3f' %(LuasTab))\n",
        "print('Luas Tabung adalah = ', LuasTab)\n",
        "print(\"Luas Tabung adalah = \", LuasTab)"
      ],
      "metadata": {
        "colab": {
          "base_uri": "https://localhost:8080/"
        },
        "id": "_C_z9yHgcrjD",
        "outputId": "13e01108-f05c-42c0-a098-93d1d3c5d8fe"
      },
      "execution_count": 24,
      "outputs": [
        {
          "output_type": "stream",
          "name": "stdout",
          "text": [
            "masukkan jari2 tabung = 7\n",
            "masukkan tinggi tabung = 10\n",
            "Luas Tabung adalah = 1539.380\n",
            "Luas Tabung adalah =  1539.3804002589986\n",
            "Luas Tabung adalah =  1539.3804002589986\n"
          ]
        }
      ]
    }
  ]
}