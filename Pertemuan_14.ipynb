{
  "nbformat": 4,
  "nbformat_minor": 0,
  "metadata": {
    "colab": {
      "name": "Pertemuan 14.ipynb",
      "provenance": [],
      "authorship_tag": "ABX9TyN5QjsfbJbjRsxrj1AzjDTB",
      "include_colab_link": true
    },
    "kernelspec": {
      "name": "python3",
      "display_name": "Python 3"
    },
    "language_info": {
      "name": "python"
    }
  },
  "cells": [
    {
      "cell_type": "markdown",
      "metadata": {
        "id": "view-in-github",
        "colab_type": "text"
      },
      "source": [
        "<a href=\"https://colab.research.google.com/github/amilsiddik/percobaan/blob/main/Pertemuan_14.ipynb\" target=\"_parent\"><img src=\"https://colab.research.google.com/assets/colab-badge.svg\" alt=\"Open In Colab\"/></a>"
      ]
    },
    {
      "cell_type": "markdown",
      "source": [
        "**Fungsi tanpa parameter**"
      ],
      "metadata": {
        "id": "yoNru6e7kftt"
      }
    },
    {
      "cell_type": "code",
      "execution_count": null,
      "metadata": {
        "colab": {
          "base_uri": "https://localhost:8080/"
        },
        "id": "EDpU7i2QjJMB",
        "outputId": "f2cbb48f-3013-4969-ebe3-f19dd8379deb"
      },
      "outputs": [
        {
          "output_type": "stream",
          "name": "stdout",
          "text": [
            "Halo stat\n"
          ]
        }
      ],
      "source": [
        "def kalimat():\n",
        "  print('Halo stat')\n",
        "\n",
        "kalimat()"
      ]
    },
    {
      "cell_type": "code",
      "source": [
        "def hitung():\n",
        "  return 1+2+4\n",
        "\n",
        "tampil=hitung()\n",
        "print('Hasil perhitungan', tampil)"
      ],
      "metadata": {
        "colab": {
          "base_uri": "https://localhost:8080/"
        },
        "id": "mt8Coh9ej5h4",
        "outputId": "eae7c135-ccb9-404c-b864-f99d814815c1"
      },
      "execution_count": null,
      "outputs": [
        {
          "output_type": "stream",
          "name": "stdout",
          "text": [
            "Hasil perhitungan 7\n"
          ]
        }
      ]
    },
    {
      "cell_type": "markdown",
      "source": [
        "**fungsi dengan parameter tanpa nilai kembalian**"
      ],
      "metadata": {
        "id": "7wGtp3Vlkm9K"
      }
    },
    {
      "cell_type": "code",
      "source": [
        "#deklarasi fungsi\n",
        "def datadiri(nama, kota):\n",
        "  \"menampilkan nama dan kota\"\n",
        "  print('Nama Anda : ', nama)\n",
        "  print('Kota Anda : ', kota)\n",
        "\n",
        "#program utama\n",
        "nama=input('Masukkan nama Anda : ')\n",
        "kota=input('Masukkan asal Anda : ')\n",
        "\n",
        "#memanggil fungsi\n",
        "datadiri(nama,kota)"
      ],
      "metadata": {
        "colab": {
          "base_uri": "https://localhost:8080/"
        },
        "id": "WutnV8Teks8u",
        "outputId": "358101d9-655a-4911-902b-ce5cbdfdd566"
      },
      "execution_count": null,
      "outputs": [
        {
          "output_type": "stream",
          "name": "stdout",
          "text": [
            "Masukkan nama Anda : Baco\n",
            "Masukkan asal Anda : Sengkang\n",
            "Nama Anda :  Baco\n",
            "Kota Anda :  Sengkang\n"
          ]
        }
      ]
    },
    {
      "cell_type": "markdown",
      "source": [
        "**fungsi dengan parameter dengan nilai kembalian** **teks tebal**"
      ],
      "metadata": {
        "id": "HK1nH0A1mqMj"
      }
    },
    {
      "cell_type": "code",
      "source": [
        "#deklarasi fungssi\n",
        "def perkalian(bil1, bil2):\n",
        "  \"menghitung perkalian dua bilangan\"\n",
        "  hasil = bil1 * bil2\n",
        "  return hasil\n",
        "\n",
        "#program utama\n",
        "bil1=int(input('Masukkan bil. pertama : '))\n",
        "bil2=int(input('Masukkan bil. kedua : '))\n",
        "#memanggil fungsi\n",
        "print('Hasil perkalian',bil1,' dengan ',bil2,' adalah ',perkalian(bil1,bil2))"
      ],
      "metadata": {
        "colab": {
          "base_uri": "https://localhost:8080/"
        },
        "id": "QiVVomMOm24X",
        "outputId": "806c7513-55ae-446a-d29e-afeece301792"
      },
      "execution_count": null,
      "outputs": [
        {
          "output_type": "stream",
          "name": "stdout",
          "text": [
            "Masukkan bil. pertama : 3\n",
            "Masukkan bil. kedua : 4\n",
            "Hasil perkalian 3  dengan  4  adalah  12\n"
          ]
        }
      ]
    },
    {
      "cell_type": "markdown",
      "source": [
        "**Variabel lokal dan global**"
      ],
      "metadata": {
        "id": "VoeePtgnpPpM"
      }
    },
    {
      "cell_type": "code",
      "source": [
        "def ContohLokal():\n",
        "  A=99\n",
        "  A\n",
        "#program Utama\n",
        "A=55\n",
        "A\n",
        "ContohLokal()"
      ],
      "metadata": {
        "id": "q7FAbNa4pUMe"
      },
      "execution_count": null,
      "outputs": []
    },
    {
      "cell_type": "code",
      "source": [
        "def Bilangan(x,y):\n",
        "  print(\"Di dalam fungsi\")\n",
        "  print(\"Sebelum Proses\")\n",
        "  print(\"Nilai x\", x)\n",
        "  print(\"Nilai y\", y)\n",
        "  z=x\n",
        "  x=y\n",
        "  y=z\n",
        "  print(\"Setelah Proses\")\n",
        "  print(\"Nilai x\", x)\n",
        "  print(\"Nilai y\", y)\n",
        "\n",
        "x=12\n",
        "y=3\n",
        "print(\"Sebelum memanggil fungsi, x bernilai\", x)\n",
        "print(\"Sebelum memanggil fungsi, y bernilai\", y)\n",
        "Bilangan(x,y)\n",
        "print(\"Setelah memanggil fungsi, x bernilai\", x)\n",
        "print(\"Setelah memanggil fungsi, y bernilai\", y)"
      ],
      "metadata": {
        "colab": {
          "base_uri": "https://localhost:8080/"
        },
        "id": "hvwubIUbswNU",
        "outputId": "a01b542d-44d2-4c66-f22b-282d7fcbd412"
      },
      "execution_count": null,
      "outputs": [
        {
          "output_type": "stream",
          "name": "stdout",
          "text": [
            "Sebelum memanggil fungsi, x bernilai 12\n",
            "Sebelum memanggil fungsi, y bernilai 3\n",
            "Di dalam fungsi\n",
            "Sebelum Proses\n",
            "Nilai x 12\n",
            "Nilai y 3\n",
            "Setelah Proses\n",
            "Nilai x 3\n",
            "Nilai y 12\n",
            "Setelah memanggil fungsi, x bernilai 12\n",
            "Setelah memanggil fungsi, y bernilai 3\n"
          ]
        }
      ]
    },
    {
      "cell_type": "code",
      "source": [
        "# Python program to demonstrate mean()\n",
        "# function from the statistics module\n",
        "\n",
        "# Importing the statistics module\n",
        "import statistics\n",
        "\n",
        "# list of positive integer numbers\n",
        "data1 = [1, 3, 4, 5, 7, 9, 2]\n",
        "\n",
        "x = statistics.mean(data1)\n",
        "\n",
        "# Printing the mean\n",
        "print(\"Mean is :\", x)\n",
        "\n"
      ],
      "metadata": {
        "colab": {
          "base_uri": "https://localhost:8080/"
        },
        "id": "yJ1PkgtsvgyT",
        "outputId": "f2ce657f-e9c0-4e1f-f683-957730b680af"
      },
      "execution_count": 16,
      "outputs": [
        {
          "output_type": "stream",
          "name": "stdout",
          "text": [
            "Mean is : 4.428571428571429\n"
          ]
        }
      ]
    }
  ]
}